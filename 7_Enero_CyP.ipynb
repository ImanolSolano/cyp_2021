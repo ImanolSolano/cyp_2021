{
  "nbformat": 4,
  "nbformat_minor": 0,
  "metadata": {
    "colab": {
      "name": "7_Enero_CyP",
      "provenance": [],
      "authorship_tag": "ABX9TyPd7uiT/Rg68hhKzi9ibsJr",
      "include_colab_link": true
    },
    "kernelspec": {
      "name": "python3",
      "display_name": "Python 3"
    }
  },
  "cells": [
    {
      "cell_type": "markdown",
      "metadata": {
        "id": "view-in-github",
        "colab_type": "text"
      },
      "source": [
        "<a href=\"https://colab.research.google.com/github/ImanolSolano/cyp_2021/blob/main/7_Enero_CyP.ipynb\" target=\"_parent\"><img src=\"https://colab.research.google.com/assets/colab-badge.svg\" alt=\"Open In Colab\"/></a>"
      ]
    },
    {
      "cell_type": "code",
      "metadata": {
        "id": "Q7xVjpD341-M"
      },
      "source": [
        "estados = 2\r\n",
        "\r\n",
        "lluvias_men_est= [ [0 for x in range(12)] for x in range(estados)]\r\n",
        "print(lluvias_men_est)\r\n",
        "for i in range(estados):\r\n",
        "  for j in range(12):\r\n",
        "    aux = int (input(\"Dame siguiente valor: \"))\r\n",
        "    lluvias_men_est[i][j] = aux\r\n",
        "print(lluvias_men_est)\r\n",
        "\r\n",
        "print(\"PROMEDIO DE LLUVIAS EN LOS ESTADOS\")\r\n",
        "SUMA = 0\r\n",
        "PROM = 0\r\n",
        "for i in range(estados):\r\n",
        "  for j in range(12):\r\n",
        "    SUMA = SUMA + lluvias_men_est[i][j]\r\n",
        "  print(f\"El promedio de lluvias {i + 1} es {SUMA / 12}\")"
      ],
      "execution_count": null,
      "outputs": []
    },
    {
      "cell_type": "code",
      "metadata": {
        "colab": {
          "base_uri": "https://localhost:8080/"
        },
        "id": "Z8wBETcwKeKU",
        "outputId": "c34e8946-bc87-4c4e-9c34-f131dd0aaa53"
      },
      "source": [
        "estados = int (input(\"¿Cúantos estads son? \"))\r\n",
        "lluvias_men_est= [ [0 for x in range(12)] for x in range(estados)]\r\n",
        "print(lluvias_men_est)\r\n",
        "for i in range(estados):\r\n",
        "  for j in range(12):\r\n",
        "    mensaje =\"Dame el valor del mes \"+ str(i+1) +\" del mes \"+ str(j+1),\":\" \r\n",
        "    aux= int(input(mensaje))\r\n",
        "    lluvias_men_est[i][j]=aux\r\n",
        "print(lluvias_men_est)\r\n",
        "\r\n",
        "print(\"PROMEDIO DE LLUVIAS EN LOS ESTADOS\")\r\n",
        "SUMA = 0\r\n",
        "PROM = 0\r\n",
        "for i in range(estados):\r\n",
        "  SUMA=0\r\n",
        "  for j in range(12):\r\n",
        "    SUMA = SUMA + lluvias_men_est[i][j]\r\n",
        "  print(f\"El promedio de lluvias {i + 1} es {SUMA / 12}\")"
      ],
      "execution_count": 3,
      "outputs": [
        {
          "output_type": "stream",
          "text": [
            "¿Cúantos estads son? 1\n",
            "[[0, 0, 0, 0, 0, 0, 0, 0, 0, 0, 0, 0]]\n",
            "Dame el valor del mes 1 del mes 1,:50\n",
            "Dame el valor del mes 1 del mes 2,:75\n",
            "Dame el valor del mes 1 del mes 3,:14\n",
            "Dame el valor del mes 1 del mes 4,:10\n",
            "Dame el valor del mes 1 del mes 5,:60\n",
            "Dame el valor del mes 1 del mes 6,:50\n",
            "Dame el valor del mes 1 del mes 7,:30\n",
            "Dame el valor del mes 1 del mes 8,:70\n",
            "Dame el valor del mes 1 del mes 9,:80\n",
            "Dame el valor del mes 1 del mes 10,:90\n",
            "Dame el valor del mes 1 del mes 11,:40\n",
            "Dame el valor del mes 1 del mes 12,:20\n",
            "[[50, 75, 14, 10, 60, 50, 30, 70, 80, 90, 40, 20]]\n",
            "PROMEDIO DE LLUVIAS EN LOS ESTADOS\n",
            "El promedio de lluvias 1 es 49.083333333333336\n"
          ],
          "name": "stdout"
        }
      ]
    }
  ]
}