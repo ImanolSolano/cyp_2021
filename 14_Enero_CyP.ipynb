{
  "nbformat": 4,
  "nbformat_minor": 0,
  "metadata": {
    "colab": {
      "name": "14_Enero_CyP",
      "provenance": [],
      "authorship_tag": "ABX9TyPJULoLdrYmnk8uNVondHmU",
      "include_colab_link": true
    },
    "kernelspec": {
      "name": "python3",
      "display_name": "Python 3"
    }
  },
  "cells": [
    {
      "cell_type": "markdown",
      "metadata": {
        "id": "view-in-github",
        "colab_type": "text"
      },
      "source": [
        "<a href=\"https://colab.research.google.com/github/ImanolSolano/cyp_2021/blob/main/14_Enero_CyP.ipynb\" target=\"_parent\"><img src=\"https://colab.research.google.com/assets/colab-badge.svg\" alt=\"Open In Colab\"/></a>"
      ]
    },
    {
      "cell_type": "markdown",
      "metadata": {
        "id": "160hrY065EDz"
      },
      "source": [
        "#Palabras reservadas de Python 3\r\n",
        "1. False\r\n",
        "1. None\r\n",
        "1. True\r\n",
        "1. and\r\n",
        "1. as\r\n",
        "1. assert\r\n",
        "1. break\r\n",
        "1. class\r\n",
        "1. continue\r\n",
        "1. def\r\n",
        "1. del\r\n",
        "1. elif\r\n",
        "1. else\r\n",
        "1. except\r\n",
        "1. finally\r\n",
        "1. for\r\n",
        "1. from\r\n",
        "1. global\r\n",
        "1. if\r\n",
        "1. import\r\n",
        "1. in\r\n",
        "1. is\r\n",
        "1. lambda\r\n",
        "1. nonlocal\r\n",
        "1. not\r\n",
        "1. or\r\n",
        "1. pass\r\n",
        "1. raise\r\n",
        "1. return\r\n",
        "1. try\r\n",
        "1. while\r\n",
        "1. with\r\n",
        "1. yield \r\n"
      ]
    },
    {
      "cell_type": "code",
      "metadata": {
        "colab": {
          "base_uri": "https://localhost:8080/"
        },
        "id": "NwmXJicn3Oqm",
        "outputId": "5bc1a6c8-18fe-461f-f407-bf922aba861f"
      },
      "source": [
        "import keyword\r\n",
        "pr=keyword.kwlist\r\n",
        "print( len(pr))\r\n",
        "for palabra in pr:\r\n",
        "  print(\"1.\",palabra , end=\"\\n\")"
      ],
      "execution_count": 8,
      "outputs": [
        {
          "output_type": "stream",
          "text": [
            "33\n",
            "1. False\n",
            "1. None\n",
            "1. True\n",
            "1. and\n",
            "1. as\n",
            "1. assert\n",
            "1. break\n",
            "1. class\n",
            "1. continue\n",
            "1. def\n",
            "1. del\n",
            "1. elif\n",
            "1. else\n",
            "1. except\n",
            "1. finally\n",
            "1. for\n",
            "1. from\n",
            "1. global\n",
            "1. if\n",
            "1. import\n",
            "1. in\n",
            "1. is\n",
            "1. lambda\n",
            "1. nonlocal\n",
            "1. not\n",
            "1. or\n",
            "1. pass\n",
            "1. raise\n",
            "1. return\n",
            "1. try\n",
            "1. while\n",
            "1. with\n",
            "1. yield\n"
          ],
          "name": "stdout"
        }
      ]
    },
    {
      "cell_type": "markdown",
      "metadata": {
        "id": "dLMGAbos65iG"
      },
      "source": [
        "##Variable\r\n",
        "Espacio de memoria para almacenar variables que estan en cambio a lo largo de la ejecución a lo largo de programar, está referenciado por un identificador, el cual, tiene ciertas reglas de nombrado. \r\n",
        "- No puede iniciar con número pero si con un _\r\n",
        "- No debe ser igual a alguna de las palabras reservadas. \r\n",
        "- Evitar nombres de variables largos. \r\n",
        "- Evitar muy cortos, ejemplos x, y, i, etc. \r\n",
        "- Usar notación snake_case\r\n"
      ]
    },
    {
      "cell_type": "code",
      "metadata": {
        "colab": {
          "base_uri": "https://localhost:8080/",
          "height": 129
        },
        "id": "9ra6zt7f7uB2",
        "outputId": "29a45e78-92b8-4218-ad2b-f0d2f8d7d0eb"
      },
      "source": [
        "2edad=12\r\n",
        "print(2edad)"
      ],
      "execution_count": 9,
      "outputs": [
        {
          "output_type": "error",
          "ename": "SyntaxError",
          "evalue": "ignored",
          "traceback": [
            "\u001b[0;36m  File \u001b[0;32m\"<ipython-input-9-a1a8d01d8fd6>\"\u001b[0;36m, line \u001b[0;32m1\u001b[0m\n\u001b[0;31m    2edad=12\u001b[0m\n\u001b[0m        ^\u001b[0m\n\u001b[0;31mSyntaxError\u001b[0m\u001b[0;31m:\u001b[0m invalid syntax\n"
          ]
        }
      ]
    },
    {
      "cell_type": "code",
      "metadata": {
        "colab": {
          "base_uri": "https://localhost:8080/",
          "height": 51
        },
        "id": "nYDe2JMU7-UQ",
        "outputId": "224429b0-ab60-482a-c964-f6346178ccfe"
      },
      "source": [
        "_2edad= 12\r\n",
        "print(_2edad)\r\n",
        "\r\n",
        "\"\"\"\r\n",
        "No se puede usar una palabra reservada como identificador de variable\r\n",
        "for=12\r\n",
        "print(for)\r\n",
        "\"\"\"\r\n",
        "\r\n",
        "\"\"\"\r\n",
        "La notación snake case consta de formar el identificador de variables separando\r\n",
        "las palabras del mismo con un guión bajo. \r\n",
        "\r\n",
        "Es recomendable que los identificadres escriban en minuscula para las variables\r\n",
        "y en mayuscula para las constantes. \r\n",
        "\r\n",
        "Es decir, si se tiene una variable para los días de la semana, se escribiría\r\n",
        "\r\n",
        "dias_de_la_semana=7\r\n",
        "dias_mes=31\r\n",
        "limite_maximo=100\r\n",
        "\r\n",
        "\"\"\""
      ],
      "execution_count": 12,
      "outputs": [
        {
          "output_type": "stream",
          "text": [
            "12\n"
          ],
          "name": "stdout"
        },
        {
          "output_type": "execute_result",
          "data": {
            "application/vnd.google.colaboratory.intrinsic+json": {
              "type": "string"
            },
            "text/plain": [
              "'\\nNo se puede usar una palabra reservada como identificador de variable\\nfor=12\\nprint(for)\\n'"
            ]
          },
          "metadata": {
            "tags": []
          },
          "execution_count": 12
        }
      ]
    },
    {
      "cell_type": "markdown",
      "metadata": {
        "id": "o6DnZk8n95Cq"
      },
      "source": [
        "#Tipos de datos\r\n",
        "- Numéricos\r\n",
        "  - int 4 bytes (Valores enteros)\r\n",
        "  - float (Valores decimales)\r\n",
        "  - long 8 bytes (Valores enteros el dble de grandes, agrandar el rango de numeros que se pueden usar. \r\n",
        "  - complex 3 + 2j (Raices negativas)\r\n",
        "- Boolean: True o False\r\n",
        "- String cadenas de caracteres (\"cad\", 'cad' o \"\"\"cad\"\"\")\r\n",
        "- listas ([1,2,3,4] , [a,b,1,2,3])\r\n",
        "- tuplas ( (edad,23) , (3,4) )\r\n",
        "- Conjuntos\r\n",
        "- Diccionarios ( {\"nombre\":\"Juan\"} )\r\n"
      ]
    },
    {
      "cell_type": "markdown",
      "metadata": {
        "id": "ELCPCuIsECBD"
      },
      "source": [
        "#Tipo de dato String\r\n",
        "Este tipo de dato permite almacenar cadena de caracters, como por ejemplo: \r\n",
        "\r\n",
        "nombre='Ima'\r\n",
        "lugar_nacimiento=\"México D.F., Lindavista\"\r\n",
        "frase_fav=\"\"\"\r\n",
        "\r\n",
        "\"\"\""
      ]
    },
    {
      "cell_type": "markdown",
      "metadata": {
        "id": "8c6u1lomFjgS"
      },
      "source": [
        "#String como arreglo\r\n",
        "Un string en python es almacenado como el tipo de dato (estructura de datos) arreglo. \r\n",
        "\r\n",
        "Por ejemplo, la declaración:\r\n",
        "\r\n",
        "'''\r\n",
        "nombre = 'jesus'\r\n",
        "'''\r\n",
        "\r\n",
        "El elemento 'J' es almacenado en un arreglo en la posición 0. \r\n",
        "La e en la 1 y así, sucesivamente\r\n",
        "\r\n",
        "###Selector \r\n",
        "La notación para seleccionar un elemento del arreglo es: \r\n",
        "\r\n",
        "[ 1 ] \r\n",
        "\r\n",
        "Donde el valor interno debe ser un valor numérico entero. \r\n",
        "\r\n",
        "\r\n"
      ]
    },
    {
      "cell_type": "code",
      "metadata": {
        "colab": {
          "base_uri": "https://localhost:8080/"
        },
        "id": "huGVE-EoDHLZ",
        "outputId": "763fd977-3f25-4967-ff79-aed60fbbc1d6"
      },
      "source": [
        "nombre= 'Imanol'\r\n",
        "print(len(nombre))\r\n",
        "print(nombre)\r\n",
        "print(nombre[0])\r\n",
        "print(nombre[3])\r\n"
      ],
      "execution_count": 16,
      "outputs": [
        {
          "output_type": "stream",
          "text": [
            "6\n",
            "Imanol\n",
            "I\n",
            "n\n"
          ],
          "name": "stdout"
        }
      ]
    },
    {
      "cell_type": "markdown",
      "metadata": {
        "id": "5-uP6RaGHRQ7"
      },
      "source": [
        "# Iterar sobre un string \r\n",
        "Se puede iterar sobre un String con un for de la forma: \r\n",
        "\r\n",
        "```\r\n",
        "for letra in range (len(nombre)):\r\n",
        "  print(letra)\r\n",
        "```"
      ]
    },
    {
      "cell_type": "code",
      "metadata": {
        "colab": {
          "base_uri": "https://localhost:8080/"
        },
        "id": "gi_GlU-uIXOt",
        "outputId": "7000742e-21c0-4577-abb3-8fbcdf668019"
      },
      "source": [
        "for indice in range (len(nombre)):\r\n",
        "  print(indice, end=\", \")\r\n",
        "  print(nombre[indice])"
      ],
      "execution_count": 20,
      "outputs": [
        {
          "output_type": "stream",
          "text": [
            "0, I\n",
            "1, m\n",
            "2, a\n",
            "3, n\n",
            "4, o\n",
            "5, l\n"
          ],
          "name": "stdout"
        }
      ]
    },
    {
      "cell_type": "markdown",
      "metadata": {
        "id": "DqDl0eEOJ97k"
      },
      "source": [
        "#Función range (inicio, stop, incremento)\r\n",
        "El inicioes opcional, teniendo por defecto el valor 0, el incremento es opcional y por defecto es 1 "
      ]
    },
    {
      "cell_type": "code",
      "metadata": {
        "colab": {
          "base_uri": "https://localhost:8080/"
        },
        "id": "6-TbbKfJJ0Fi",
        "outputId": "4ac7fcd1-52e1-4d5d-eac6-56c50e20d412"
      },
      "source": [
        "for indice in range(1, len(nombre), 1):\r\n",
        "  print(nombre[indice])\r\n"
      ],
      "execution_count": 23,
      "outputs": [
        {
          "output_type": "stream",
          "text": [
            "m\n",
            "a\n",
            "n\n",
            "o\n",
            "l\n"
          ],
          "name": "stdout"
        }
      ]
    },
    {
      "cell_type": "code",
      "metadata": {
        "colab": {
          "base_uri": "https://localhost:8080/"
        },
        "id": "HKN5uhzQK9gt",
        "outputId": "4000089e-b409-4985-c8c4-ad6944b8d09a"
      },
      "source": [
        "for indice in range (5, -1 , -1):\r\n",
        "  print(nombre[indice])"
      ],
      "execution_count": 33,
      "outputs": [
        {
          "output_type": "stream",
          "text": [
            "l\n",
            "o\n",
            "n\n",
            "a\n",
            "m\n",
            "I\n"
          ],
          "name": "stdout"
        }
      ]
    },
    {
      "cell_type": "markdown",
      "metadata": {
        "id": "MPCisG6rL0gJ"
      },
      "source": [
        "#String e indexado negativo\r\n",
        "En python 3, se agrega una nueva caracteristica a los arreglos de las cadenas de caracteres, esta consta de la capacidad de indexar de forma negativa. \r\n",
        "\r\n",
        "La lógica es la siguiente:\r\n",
        "\r\n",
        "El último elemento se le considera como indice (ALTERNATIVO) -1, con lo cual se podría referenciarel final de la cadena sin lanecesidad de saber el tamaño de la misma. \r\n",
        "\r\n",
        "nombre= 'jesus'\r\n",
        "\r\n",
        "indice normal        0 1 2 3 4\r\n",
        "\r\n",
        "                     J e s u s\r\n",
        "\r\n",
        "indice alternativo  -5 -4 -3 -2 -1"
      ]
    },
    {
      "cell_type": "code",
      "metadata": {
        "colab": {
          "base_uri": "https://localhost:8080/"
        },
        "id": "yOjPv5WvMjBe",
        "outputId": "cffaa6a0-6b79-45fd-913a-2484e5da47fc"
      },
      "source": [
        "nombre= 'Imanol'\r\n",
        "print(nombre[4])\r\n",
        "print(nombre [-1])\r\n"
      ],
      "execution_count": 35,
      "outputs": [
        {
          "output_type": "stream",
          "text": [
            "o\n",
            "l\n"
          ],
          "name": "stdout"
        }
      ]
    },
    {
      "cell_type": "markdown",
      "metadata": {
        "id": "gUq7CnGvPyNy"
      },
      "source": [
        "#Slicing de cadenas de caracteres\r\n",
        "Esta caracteristica nos permite sacar secciones de una cadena con la siguiente sintaxis:\r\n",
        "\r\n",
        "```\r\n",
        "[inicio : stop : incremento]\r\n",
        "```\r\n",
        "donde inicio e incremento son opcinales, soportando indexado alternativo (negativos). "
      ]
    },
    {
      "cell_type": "code",
      "metadata": {
        "colab": {
          "base_uri": "https://localhost:8080/"
        },
        "id": "vFhdSbClQanS",
        "outputId": "227284e4-f200-462b-ae49-cb619659bc95"
      },
      "source": [
        "facultad=\"Facultad de Estudios Superiores Aragón (La mejor)\"\r\n",
        "print(facultad)\r\n",
        "\r\n",
        "for indice in range( 12, 20, 1):\r\n",
        "  print(facultad[indice], end=\"\" )\r\n",
        "#Hacer esto con slicing se logra así:\r\n",
        "\r\n",
        "print(facultad[12:20:1])\r\n",
        "\r\n",
        "print(facultad[9:11:1])\r\n",
        "\r\n",
        "print(facultad[39:50:1])"
      ],
      "execution_count": 55,
      "outputs": [
        {
          "output_type": "stream",
          "text": [
            "Facultad de Estudios Superiores Aragón (La mejor)\n",
            "EstudiosEstudios\n",
            "de\n",
            "(La mejor)\n"
          ],
          "name": "stdout"
        }
      ]
    }
  ]
}