{
  "nbformat": 4,
  "nbformat_minor": 0,
  "metadata": {
    "colab": {
      "name": "17_nov_cyp",
      "provenance": [],
      "authorship_tag": "ABX9TyMVf0vp9VOsyGtqfPgFeGhZ",
      "include_colab_link": true
    },
    "kernelspec": {
      "name": "python3",
      "display_name": "Python 3"
    }
  },
  "cells": [
    {
      "cell_type": "markdown",
      "metadata": {
        "id": "view-in-github",
        "colab_type": "text"
      },
      "source": [
        "<a href=\"https://colab.research.google.com/github/ImanolSolano/cyp_2021/blob/main/17_nov_cyp.ipynb\" target=\"_parent\"><img src=\"https://colab.research.google.com/assets/colab-badge.svg\" alt=\"Open In Colab\"/></a>"
      ]
    },
    {
      "cell_type": "code",
      "metadata": {
        "colab": {
          "base_uri": "https://localhost:8080/"
        },
        "id": "bCiUO90HSG3w",
        "outputId": "ff00eb8c-f681-4f88-80fe-1d865d44c90c"
      },
      "source": [
        "#Ejemplo dado por el profesor (potencia)\n",
        "edad = 15\n",
        "estatura = 1.67\n",
        "a=10\n",
        "b=3\n",
        "\n",
        "c = 2**b #potencia\n",
        "\n",
        "print (c)\n"
      ],
      "execution_count": 7,
      "outputs": [
        {
          "output_type": "stream",
          "text": [
            "8\n"
          ],
          "name": "stdout"
        }
      ]
    },
    {
      "cell_type": "code",
      "metadata": {
        "colab": {
          "base_uri": "https://localhost:8080/"
        },
        "id": "t2qYqMhfTb0o",
        "outputId": "13b844fd-d679-4f8f-be2e-f59e1047775f"
      },
      "source": [
        "#Practica (potencia)\n",
        "edad = 15\n",
        "estatura = 1.67\n",
        "a=10\n",
        "b=3\n",
        "\n",
        "c = 2**b+2+a-b\n",
        "\n",
        "print (c+b)\n"
      ],
      "execution_count": 8,
      "outputs": [
        {
          "output_type": "stream",
          "text": [
            "20\n"
          ],
          "name": "stdout"
        }
      ]
    },
    {
      "cell_type": "code",
      "metadata": {
        "colab": {
          "base_uri": "https://localhost:8080/"
        },
        "id": "-Tci7N5dTmGd",
        "outputId": "2e8c9cfe-af96-4b78-cb73-33adf144ac42"
      },
      "source": [
        "#ejemplo dado por el profesor (multiplicación)\n",
        "edad = 15\n",
        "estatura = 1.67\n",
        "a=10\n",
        "b=3\n",
        "\n",
        "c = 2**b #potencia\n",
        "\n",
        "print (c)\n",
        "\n",
        "e=estatura * 2.0  #multiplicación\n",
        "print(e)"
      ],
      "execution_count": 9,
      "outputs": [
        {
          "output_type": "stream",
          "text": [
            "8\n",
            "3.34\n"
          ],
          "name": "stdout"
        }
      ]
    },
    {
      "cell_type": "code",
      "metadata": {
        "colab": {
          "base_uri": "https://localhost:8080/"
        },
        "id": "4XK0LFGqUDfN",
        "outputId": "d0d635a8-1bb5-49da-ab16-2d6eaa66e828"
      },
      "source": [
        "#ejemplo dado por el profesr (division)\n",
        "edad = 15\n",
        "estatura = 1.67\n",
        "a=10\n",
        "b=3\n",
        "\n",
        "c = 2**b #Potencia\n",
        "\n",
        "print (c)\n",
        "\n",
        "e=estatura * 2.0  #multiplicación\n",
        "print(e)\n",
        "\n",
        "f=a/b #division tal cual\n",
        "print (f)\n",
        "\n",
        "g=a//b #doble diagonal es para forzar a divison entera\n",
        "print(\"g=\",g)"
      ],
      "execution_count": 11,
      "outputs": [
        {
          "output_type": "stream",
          "text": [
            "8\n",
            "3.34\n",
            "3.3333333333333335\n",
            "g= 3\n"
          ],
          "name": "stdout"
        }
      ]
    },
    {
      "cell_type": "code",
      "metadata": {
        "colab": {
          "base_uri": "https://localhost:8080/"
        },
        "id": "pSeU4Dp_VE74",
        "outputId": "41fb3dc8-edcf-4ac9-bd40-066f2a35ccd3"
      },
      "source": [
        "#ejemplo dado por el profesr (modulo)\n",
        "edad = 15\n",
        "estatura = 1.67\n",
        "a=10\n",
        "b=3\n",
        "\n",
        "c = 2**b #Potencia\n",
        "\n",
        "print (c)\n",
        "\n",
        "e=estatura * 2.0  #multiplicación\n",
        "print(e)\n",
        "\n",
        "f=a/b #division tal cual\n",
        "print (f)\n",
        "\n",
        "g=a//b #doble diagonal es para forzar a divison entera\n",
        "print(\"g=\",g)\n",
        "\n",
        "h=a%b # modulo, residuo de la division\n",
        "print (\"h=\",h)"
      ],
      "execution_count": 12,
      "outputs": [
        {
          "output_type": "stream",
          "text": [
            "8\n",
            "3.34\n",
            "3.3333333333333335\n",
            "g= 3\n",
            "h= 1\n"
          ],
          "name": "stdout"
        }
      ]
    },
    {
      "cell_type": "code",
      "metadata": {
        "colab": {
          "base_uri": "https://localhost:8080/"
        },
        "id": "og6nLwUbVn11",
        "outputId": "9df82d3a-fd4a-4cab-fad5-525b29929ba8"
      },
      "source": [
        "#ejemplo dado por el profesr (modulo)\n",
        "edad = 15\n",
        "estatura = 1.67\n",
        "a=10\n",
        "b=3\n",
        "\n",
        "c = 2**b #Potencia\n",
        "\n",
        "print (c)\n",
        "\n",
        "e=estatura * 2.0  #multiplicación\n",
        "print(e)\n",
        "\n",
        "f=a/b #division tal cual\n",
        "print (f)\n",
        "\n",
        "g=a//b #doble diagonal es para forzar a divison entera\n",
        "print(\"g=\",g)\n",
        "\n",
        "h=a%b # modulo, residuo de la division\n",
        "print (\"h=\",h)\n",
        "\n",
        "num=10 # par o no par\n",
        "print(\"Es par la variable num\", (num%2)==0)\n",
        "\n",
        "num=11 # par o no par\n",
        "print(\"Es par la variable num\", (num%2)==0)"
      ],
      "execution_count": 15,
      "outputs": [
        {
          "output_type": "stream",
          "text": [
            "8\n",
            "3.34\n",
            "3.3333333333333335\n",
            "g= 3\n",
            "h= 1\n",
            "Es par la variable num True\n",
            "Es par la variable num False\n"
          ],
          "name": "stdout"
        }
      ]
    },
    {
      "cell_type": "code",
      "metadata": {
        "colab": {
          "base_uri": "https://localhost:8080/"
        },
        "id": "62XX8-hSW2fp",
        "outputId": "1689fbea-1327-40f0-8052-b94928eed6f4"
      },
      "source": [
        "#operaciones\n",
        "ecuacion = 9+7*8-36/5\n",
        "print (ecuacion) #9+56-7.2 -> 65-7.2 ->57.2 -> 57.8\n",
        "\n",
        "ecuacion = (9+7)*8-36/5 #al poner un parentesis cambia la jerarquia de operaciones\n",
        "print (ecuacion) #128-7.2\n",
        "\n",
        "ecuacion = 9+7*(8-36)/5\n",
        "print (ecuacion) \n"
      ],
      "execution_count": 20,
      "outputs": [
        {
          "output_type": "stream",
          "text": [
            "57.8\n",
            "120.8\n",
            "-30.200000000000003\n"
          ],
          "name": "stdout"
        }
      ]
    },
    {
      "cell_type": "code",
      "metadata": {
        "colab": {
          "base_uri": "https://localhost:8080/"
        },
        "id": "gxXFl7lAbeLP",
        "outputId": "53b71aed-ceed-41f5-c964-9bb96081cffc"
      },
      "source": [
        "#operadores logicos --> utilizan dos valores (true y false) \n",
        "\n",
        "x=5\n",
        "y=4\n",
        "\n",
        "valor= (x==y) # == representa si ¿Son iguales?\n",
        "print(valor)\n",
        "\n",
        "valor= (x != y) # != representa si ¿Son difetentes? \n",
        "print (valor)\n",
        "\n",
        "valor= (x<y) # < menor que ¿x es menor que y?\n",
        "print(valor)\n",
        "\n",
        "valor= (x>y) # < mayor que ¿x es mayor que y?\n",
        "print(valor)\n",
        "\n",
        "\n",
        "y=5\n",
        "valor= (x<=y) # < menor o igual que ¿x es menor o igual que y?\n",
        "print(valor)\n",
        "\n",
        "valor= (x>=y) # < mayor o igual que ¿x es mayor o igual que y?\n",
        "print(valor)"
      ],
      "execution_count": 29,
      "outputs": [
        {
          "output_type": "stream",
          "text": [
            "False\n",
            "True\n",
            "False\n",
            "True\n",
            "True\n",
            "True\n"
          ],
          "name": "stdout"
        }
      ]
    },
    {
      "cell_type": "code",
      "metadata": {
        "colab": {
          "base_uri": "https://localhost:8080/"
        },
        "id": "HevhH8cTfPgZ",
        "outputId": "f510d733-ac3c-4b50-c0ab-6646eb94b044"
      },
      "source": [
        "#operadores logicos\n",
        "\n",
        "costo_chetos=7.00\n",
        "tienda_abierta = True\n",
        "capital_en_bolsa=10.00\n",
        "\n",
        "se_compra=(costo_chetos<capital_en_bolsa) and (tienda_abierta)\n",
        "print(se_compra)"
      ],
      "execution_count": 36,
      "outputs": [
        {
          "output_type": "stream",
          "text": [
            "True\n"
          ],
          "name": "stdout"
        }
      ]
    }
  ]
}