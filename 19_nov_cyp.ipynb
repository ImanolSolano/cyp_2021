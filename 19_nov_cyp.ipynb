{
  "nbformat": 4,
  "nbformat_minor": 0,
  "metadata": {
    "colab": {
      "name": "19_nov_cyp",
      "provenance": [],
      "authorship_tag": "ABX9TyPA8XlGdZ9DdcQDXSxCAHBP",
      "include_colab_link": true
    },
    "kernelspec": {
      "name": "python3",
      "display_name": "Python 3"
    }
  },
  "cells": [
    {
      "cell_type": "markdown",
      "metadata": {
        "id": "view-in-github",
        "colab_type": "text"
      },
      "source": [
        "<a href=\"https://colab.research.google.com/github/ImanolSolano/cyp_2021/blob/main/19_nov_cyp.ipynb\" target=\"_parent\"><img src=\"https://colab.research.google.com/assets/colab-badge.svg\" alt=\"Open In Colab\"/></a>"
      ]
    },
    {
      "cell_type": "code",
      "metadata": {
        "colab": {
          "base_uri": "https://localhost:8080/"
        },
        "id": "8YkpAdwJhTEF",
        "outputId": "448e69cc-d0d9-4649-dbaf-e8173f671090"
      },
      "source": [
        "#concepto de asignación, de derecha a izquierda :)\n",
        "I=0\n",
        "I=I+1\n",
        "I=I+1\n",
        "print(f\"I={I}\")\n",
        "J=5**2/3\n",
        "print(f\"J{J}\")"
      ],
      "execution_count": null,
      "outputs": [
        {
          "output_type": "stream",
          "text": [
            "I=2\n",
            "J8.333333333333334\n"
          ],
          "name": "stdout"
        }
      ]
    },
    {
      "cell_type": "code",
      "metadata": {
        "colab": {
          "base_uri": "https://localhost:8080/"
        },
        "id": "8Qwn_x7Ul0eC",
        "outputId": "b3080a18-4050-44d3-f9f8-ca938fd9be5d"
      },
      "source": [
        "#primer ejercicio\n",
        "#DECLARACIÓN DE VARIABLES (reservando memoria)\n",
        "A=0\n",
        "B=0\n",
        "C=0\n",
        "D=0\n",
        "A=int(input(\"Dame un valor entero:\"))\n",
        "B=int(input(\"Dame un valor entero:\"))\n",
        "C=int(input(\"Dame un valor entero:\"))\n",
        "D=int(input(\"Dame un valor entero:\"))\n",
        "print(D)\n",
        "print(C)\n",
        "print(B)\n",
        "print(A)"
      ],
      "execution_count": null,
      "outputs": [
        {
          "output_type": "stream",
          "text": [
            "Dame un valor entero:10\n",
            "Dame un valor entero:20\n",
            "Dame un valor entero:30\n",
            "Dame un valor entero:40\n",
            "40\n",
            "30\n",
            "20\n",
            "10\n"
          ],
          "name": "stdout"
        }
      ]
    },
    {
      "cell_type": "code",
      "metadata": {
        "colab": {
          "base_uri": "https://localhost:8080/"
        },
        "id": "3aDkhUpPn0TO",
        "outputId": "c415d064-122d-42cf-9e26-c3cfa122d22c"
      },
      "source": [
        "#Ejemplo 1.7\n",
        "A=0\n",
        "B=0\n",
        "A=int(input(\"Dame un valor:\"))\n",
        "B=int(input(\"Dame un valor:\"))\n",
        "RES=(A+B)**2/3\n",
        "print(RES)"
      ],
      "execution_count": null,
      "outputs": [
        {
          "output_type": "stream",
          "text": [
            "Dame un valor:14\n",
            "Dame un valor:-5\n",
            "27.0\n"
          ],
          "name": "stdout"
        }
      ]
    },
    {
      "cell_type": "code",
      "metadata": {
        "id": "ydhJRpR5xZjp"
      },
      "source": [
        "#Ejemplo 1.8\n",
        "MAT=0\n",
        "CAL1=0\n",
        "CAL2=0\n",
        "CAL3=0\n",
        "CAL4=0\n",
        "CAL5=0\n",
        "PRO=0.0\n",
        "MAT=int(input(\"Ingresa la matricula del alumno:\"))\n",
        "CAL1=float(input(\"Ingresa primera calificación:\"))\n",
        "CAL2=float(input(\"Ingresa segunda calificación:\"))\n",
        "CAL3=float(input(\"Ingresa tercera calificación:\"))\n",
        "CAL4=float(input(\"Ingresa cuarta calificación:\"))\n",
        "CAL5=float(input(\"Ingresa quinta calificación:\"))\n",
        "PRO=(CAL1+CAL2+CAL3+CAL4+CAL5)/5\n",
        "print(\"La matricula es\",MAT)\n",
        "print(\"El promedio es\",PRO)"
      ],
      "execution_count": null,
      "outputs": []
    },
    {
      "cell_type": "code",
      "metadata": {
        "id": "VvohxnM7xrL7"
      },
      "source": [
        "#ejemplo 1.9\n",
        "NUM=0\n",
        "CUA=0\n",
        "CUB=0\n",
        "NUM=int(input(\"Dame un valor:\"))\n",
        "CUA=NUM**2\n",
        "CUB=NUM**3\n",
        "print(\"De\", NUM,\"el cuadrado es\",CUA,\"y el cubo es\",CUB)\n",
        "\n"
      ],
      "execution_count": null,
      "outputs": []
    },
    {
      "cell_type": "code",
      "metadata": {
        "id": "2Boux_C30DHK"
      },
      "source": [
        "#Ejemplo 1.10\n",
        "BASE=0\n",
        "ALTURA=0\n",
        "SUPERFICIE=0\n",
        "PERIMETRO=0\n",
        "BASE=float(input(\"Coloca la base\"))\n",
        "ALTURA=float(input(\"Coloca la altura\"))\n",
        "SUPERFICIE=(BASE*ALTURA)\n",
        "PERIMETRO=((BASE+ALTURA)*2)\n",
        "print(\"El perimetro es de\",PERIMETRO, \"mientras que la superficie es\",SUPERFICIE)"
      ],
      "execution_count": null,
      "outputs": []
    }
  ]
}