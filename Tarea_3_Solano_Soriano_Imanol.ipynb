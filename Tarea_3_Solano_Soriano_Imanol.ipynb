{
  "nbformat": 4,
  "nbformat_minor": 0,
  "metadata": {
    "colab": {
      "name": "Tarea_3_Solano_Soriano_Imanol",
      "provenance": [],
      "authorship_tag": "ABX9TyNuQT4AdhcnFBV9MXZnidoZ",
      "include_colab_link": true
    },
    "kernelspec": {
      "name": "python3",
      "display_name": "Python 3"
    }
  },
  "cells": [
    {
      "cell_type": "markdown",
      "metadata": {
        "id": "view-in-github",
        "colab_type": "text"
      },
      "source": [
        "<a href=\"https://colab.research.google.com/github/ImanolSolano/cyp_2021/blob/main/Tarea_3_Solano_Soriano_Imanol.ipynb\" target=\"_parent\"><img src=\"https://colab.research.google.com/assets/colab-badge.svg\" alt=\"Open In Colab\"/></a>"
      ]
    },
    {
      "cell_type": "code",
      "metadata": {
        "colab": {
          "base_uri": "https://localhost:8080/"
        },
        "id": "AfaFjiM1P0kg",
        "outputId": "15e28157-f2f4-4f79-9f72-df1caec5bd4a"
      },
      "source": [
        "#Problema 1.1\n",
        "PREPRO=0\n",
        "PAGO=0\n",
        "DEVOLUCION=0\n",
        "PREPRO=float(input(\"Introduce el precio del producto:\"))\n",
        "PAGO=float(input(\"Introduce el pago realizado por el cliente:\"))\n",
        "DEVOLUCION=(PAGO-PREPRO)\n",
        "print(\"El cambio del cliente es de\",DEVOLUCION)"
      ],
      "execution_count": 3,
      "outputs": [
        {
          "output_type": "stream",
          "text": [
            "Introduce el precio del producto:21.75\n",
            "Introduce el pago realizado por el cliente:50\n",
            "El cambio del cliente es de 28.25\n"
          ],
          "name": "stdout"
        }
      ]
    },
    {
      "cell_type": "code",
      "metadata": {
        "colab": {
          "base_uri": "https://localhost:8080/"
        },
        "id": "u_sQzjyJSaj8",
        "outputId": "6dc1fadb-67ff-47f7-9a98-3954bc71dc9a"
      },
      "source": [
        "#Problema 1.2\n",
        "BASE=0\n",
        "ALTURA=0\n",
        "SUPERFICIE=0\n",
        "BASE=float(input(\"Coloca la base del triangulo:\"))\n",
        "ALTURA=float(input(\"Coloca la altura del triangulo:\"))\n",
        "SUPERFICIE=(BASE*ALTURA)/2\n",
        "print(\"La superficie que ocupa el triangulo es de:\",SUPERFICIE)"
      ],
      "execution_count": 5,
      "outputs": [
        {
          "output_type": "stream",
          "text": [
            "Coloca la base del triangulo:120.60\n",
            "Coloca la altura del triangulo:85.90\n",
            "La superficie que ocupa el triangulo es de: 5179.77\n"
          ],
          "name": "stdout"
        }
      ]
    },
    {
      "cell_type": "code",
      "metadata": {
        "colab": {
          "base_uri": "https://localhost:8080/"
        },
        "id": "XtILS1ilTt3g",
        "outputId": "969d74af-6536-4cdf-a4ef-8e43c5d4526c"
      },
      "source": [
        "#Problema 1.3 Segun lo que el libro pide \n",
        "NOMBRE=0\n",
        "PESO=0\n",
        "LONGITUD=0\n",
        "NOMBRE=(input(\"Escribe el nombre del dinosaurio:\"))\n",
        "PESO=(int(input(\"Introduce el peso en libras:\"))) #Una libra equivale a .4535Kg\n",
        "LONGITUD=(int(input(\"Introduce la longitud en pies:\"))) #Un pie equivale a .3048m\n",
        "PESO=(PESO//2.205) #Se divide entre 2.205 para poder hacer la conversión de libras a Kg\n",
        "LONGITUD=(LONGITUD//3.281) #Se divide entre 3.281 para hacer la conversión de pies a metros\n",
        "print(\"El nombre del dinsaurio es\",NOMBRE,\"su peso es de\",PESO,\"Kg y su longitud es de\",LONGITUD,\"metros\")\n"
      ],
      "execution_count": 10,
      "outputs": [
        {
          "output_type": "stream",
          "text": [
            "Escribe el nombre del dinosaurio:Equis\n",
            "Introduce el peso en libras:2500\n",
            "Introduce la longitud en pies:50\n",
            "El nombre del dinsaurio es Equis su peso es de 1133.0 Kg y su longitud es de 15.0 metros\n"
          ],
          "name": "stdout"
        }
      ]
    },
    {
      "cell_type": "code",
      "metadata": {
        "colab": {
          "base_uri": "https://localhost:8080/"
        },
        "id": "H418DtdhZPca",
        "outputId": "1280d267-823c-4ed4-8e5f-c2c6ecee3386"
      },
      "source": [
        "#Problema 1.3 segun la forma de resolución del libro\n",
        "NOMBRE=0\n",
        "PESO=0\n",
        "LONGITUD=0\n",
        "PESKIL=0\n",
        "LONMET=0\n",
        "NOMBRE=(input(\"Escribe el nombre del dinosaurio:\"))\n",
        "PESO=(int(input(\"Introduce el peso en libras:\"))) \n",
        "LONGITUD=(int(input(\"Introduce la longitud en pies:\"))) \n",
        "PESKIL=(PESO*1000) \n",
        "LONMET=(LONGITUD*.3047) \n",
        "print(\"El nombre del dinsaurio es\",NOMBRE,\"su peso es de\",PESKIL,\"Kg y su longitud es de\",LONMET,\"metros\")\n"
      ],
      "execution_count": 12,
      "outputs": [
        {
          "output_type": "stream",
          "text": [
            "Escribe el nombre del dinosaurio:DIPLOJOCUS\n",
            "Introduce el peso en libras:15\n",
            "Introduce la longitud en pies:90\n",
            "El nombre del dinsaurio es DIPLOJOCUS su peso es de 15000 Kg y su longitud es de 27.423000000000002 metros\n"
          ],
          "name": "stdout"
        }
      ]
    },
    {
      "cell_type": "code",
      "metadata": {
        "colab": {
          "base_uri": "https://localhost:8080/"
        },
        "id": "mRaPwBjkafco",
        "outputId": "8d5dd5ac-ff7d-44ae-b118-e4c89460e1ae"
      },
      "source": [
        "#Problema 1.4\n",
        "GALON=0\n",
        "TOTAL=0\n",
        "GALON=(float(input(\"Coloque el numero de galones dados al cliente:\")))\n",
        "TOTAL=((GALON*3.785)*8.20)\n",
        "print(\"Total a pagar $\",TOTAL)"
      ],
      "execution_count": 16,
      "outputs": [
        {
          "output_type": "stream",
          "text": [
            "Coloque el numero de galones dados al cliente:9.66\n",
            "Total a pagar $ 299.81741999999997\n"
          ],
          "name": "stdout"
        }
      ]
    },
    {
      "cell_type": "code",
      "metadata": {
        "colab": {
          "base_uri": "https://localhost:8080/"
        },
        "id": "52BRGZoYccnH",
        "outputId": "603eed79-ccaf-435e-ddd0-e6457ddfaabb"
      },
      "source": [
        "#Problema 1.5\n",
        "RADIO=0\n",
        "ALTURA=0\n",
        "VOLUMEN=0\n",
        "AREA=0\n",
        "PI=3.141592\n",
        "RADIO=(float(input(\"Coloca el radio del cilindro:\")))\n",
        "ALTURA=(float(input(\"Coloca la altura del cilindro:\")))\n",
        "VOLUMEN=(PI*(RADIO**2)*ALTURA)\n",
        "AREA=((PI*RADIO*ALTURA)*2)\n",
        "print(\"El volumen del cilindro es de\",VOLUMEN,\"Y el area es de\",AREA)"
      ],
      "execution_count": 21,
      "outputs": [
        {
          "output_type": "stream",
          "text": [
            "Coloca el radio del cilindro:45.22\n",
            "Coloca la altura del cilindro:11.60\n",
            "El volumen del cilindro es de 74519.32074597248 Y el area es de 3295.856733568\n"
          ],
          "name": "stdout"
        }
      ]
    },
    {
      "cell_type": "code",
      "metadata": {
        "colab": {
          "base_uri": "https://localhost:8080/"
        },
        "id": "HKCMe2zjdGNK",
        "outputId": "d3a0a3dd-9fba-4c18-ea97-45413d57dce5"
      },
      "source": [
        "#Problema 1.6\n",
        "DIAS=0\n",
        "SEGUNDOS=0\n",
        "DIAS=(int(input(\"Introduce el número de días:\")))\n",
        "SEGUNDOS=(((DIAS*24)*60)*60)\n",
        "print(\"En\",DIAS,\"hay\",SEGUNDOS,\"segundos\")"
      ],
      "execution_count": 23,
      "outputs": [
        {
          "output_type": "stream",
          "text": [
            "Introduce el número de días:116\n",
            "En 116 hay 10022400 segundos\n"
          ],
          "name": "stdout"
        }
      ]
    },
    {
      "cell_type": "code",
      "metadata": {
        "colab": {
          "base_uri": "https://localhost:8080/"
        },
        "id": "8Tu59RTvfqcL",
        "outputId": "cc3d070c-51b9-45b7-e0da-2ac3c94bc780"
      },
      "source": [
        "#Problema 1.7\n",
        "L1=0\n",
        "L2=0\n",
        "L3=0\n",
        "S=0\n",
        "AREA=0\n",
        "L1=(float(input(\"Coloca el valor del Lado 1:\")))\n",
        "L2=(float(input(\"coloca el valor del lado 2:\")))\n",
        "L3=(float(input(\"Coloca el valor del lado 3:\")))\n",
        "S=((L1+L2+L3)/2)\n",
        "AREA=((S*(S-L1)*(S-L2)*(S-L3))**0.5)\n",
        "print(\"El area del triangulo es:\",AREA)"
      ],
      "execution_count": 30,
      "outputs": [
        {
          "output_type": "stream",
          "text": [
            "Coloca el valor del Lado 1:7.5\n",
            "coloca el valor del lado 2:7.5\n",
            "Coloca el valor del lado 3:7.5\n",
            "El area del triangulo es: 24.356964481437338\n"
          ],
          "name": "stdout"
        }
      ]
    },
    {
      "cell_type": "code",
      "metadata": {
        "colab": {
          "base_uri": "https://localhost:8080/"
        },
        "id": "whUncL2_tGaE",
        "outputId": "7681a1be-bba2-45fe-d1f7-2b7e6b80e992"
      },
      "source": [
        "#Problema 1.8\n",
        "x1=0\n",
        "x2=0\n",
        "y1=0\n",
        "y2=0\n",
        "DISTANCIA=0\n",
        "x1=(float(input(\"Coloca valor de x1:\")))\n",
        "x2=(float(input(\"Coloca valor de x2:\")))\n",
        "y1=(float(input(\"Coloca valor de y1:\")))\n",
        "y2=(float(input(\"Coloca valor de y2:\")))\n",
        "DISTANCIA=((x1-x2)**2+(y1-y2)**2)**0.5\n",
        "print(\"La disrancia entre P1 y P2 es:\",DISTANCIA)"
      ],
      "execution_count": 34,
      "outputs": [
        {
          "output_type": "stream",
          "text": [
            "Coloca valor de x1:88.70\n",
            "Coloca valor de x2:295.30\n",
            "Coloca valor de y1:118.30\n",
            "Coloca valor de y2:18.40\n",
            "La disrancia entre P1 y P2 es: 229.48544616162485\n"
          ],
          "name": "stdout"
        }
      ]
    }
  ]
}