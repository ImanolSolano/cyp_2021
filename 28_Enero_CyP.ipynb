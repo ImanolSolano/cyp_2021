{
  "nbformat": 4,
  "nbformat_minor": 0,
  "metadata": {
    "colab": {
      "name": "28_Enero_CyP",
      "provenance": [],
      "authorship_tag": "ABX9TyNkYQU1YlrzWjvQUBKb0hwO",
      "include_colab_link": true
    },
    "kernelspec": {
      "name": "python3",
      "display_name": "Python 3"
    }
  },
  "cells": [
    {
      "cell_type": "markdown",
      "metadata": {
        "id": "view-in-github",
        "colab_type": "text"
      },
      "source": [
        "<a href=\"https://colab.research.google.com/github/ImanolSolano/cyp_2021/blob/main/28_Enero_CyP.ipynb\" target=\"_parent\"><img src=\"https://colab.research.google.com/assets/colab-badge.svg\" alt=\"Open In Colab\"/></a>"
      ]
    },
    {
      "cell_type": "markdown",
      "metadata": {
        "id": "ts5d1HKvKwUn"
      },
      "source": [
        "# Tuplas\r\n",
        "- Tipo de dato lineal, estructura de datos. \r\n",
        "- No mutable. \r\n",
        "- Pueden contener desde 0 a n elementos. \r\n",
        "- Se declaran con '(' y ')'\r\n",
        "- No se puede agrear ni eliminar elementos. \r\n",
        "- Pueden ser anidadas. \r\n",
        "- Los argumentos a una función son enviadas como tuplas. \r\n"
      ]
    },
    {
      "cell_type": "code",
      "metadata": {
        "colab": {
          "base_uri": "https://localhost:8080/"
        },
        "id": "lnok2D-pK3bH",
        "outputId": "fa591c2a-6f5f-44f2-9aea-bfd943cc9902"
      },
      "source": [
        "frutas= ('Sandía','Melón','Limón','Mango','Melón')\r\n",
        "print(frutas)\r\n",
        "print( frutas[1:3:])\r\n",
        "print(frutas.count('Melón'))\r\n",
        "\r\n",
        "#Son inmutables\r\n",
        "# frutas[1]='Manzana'\r\n",
        "\r\n",
        "#¿Para qué se usan? \r\n",
        "conexion=('132.248.12.12', 3306 ,'cyp_bd', 'usr_test', '1234dios')\r\n",
        "print(f\"Usuario:{conexion[3]} y password{conexion[4]}\")"
      ],
      "execution_count": 3,
      "outputs": [
        {
          "output_type": "stream",
          "text": [
            "('Sandía', 'Melón', 'Limón', 'Mango', 'Melón')\n",
            "('Melón', 'Limón')\n",
            "2\n",
            "Usuario:usr_test y password1234dios\n"
          ],
          "name": "stdout"
        }
      ]
    },
    {
      "cell_type": "markdown",
      "metadata": {
        "id": "v2TSCSI6K7CB"
      },
      "source": [
        "#Diccionarios \r\n",
        "- Estructura de datos semi-lineal. \r\n",
        "- Formada por pares, llave - valor. \r\n",
        "- Son equivalentes al tipo dato JSON, de JavaScript. \r\n",
        "- Utiliza una organización por función de dispersión.\r\n",
        "- Se declara con los elementos '{' y '}'\r\n",
        "- El selector usa valores del tipo string (llave\r\n",
        "- No se puede seleccionar por offset, es decir, valor numérico. "
      ]
    },
    {
      "cell_type": "code",
      "metadata": {
        "colab": {
          "base_uri": "https://localhost:8080/"
        },
        "id": "zDRIS0i7KodK",
        "outputId": "9566fe53-bd20-4320-c26f-cf800ba53a0d"
      },
      "source": [
        "alumno= { 'nombre':'Juan Pérez' }\r\n",
        "print(alumno)\r\n",
        "print(alumno['nombre'])\r\n"
      ],
      "execution_count": 4,
      "outputs": [
        {
          "output_type": "stream",
          "text": [
            "{'nombre': 'Juan Pérez'}\n",
            "Juan Pérez\n"
          ],
          "name": "stdout"
        }
      ]
    },
    {
      "cell_type": "code",
      "metadata": {
        "colab": {
          "base_uri": "https://localhost:8080/"
        },
        "id": "fhEfLLLxLcOg",
        "outputId": "de6f0662-ec72-47a1-87b1-62a46a7e9fd2"
      },
      "source": [
        "primaria={'primero':8.5,\r\n",
        "          'segundo':9.5,\r\n",
        "          'tercero':8.4,\r\n",
        "          'cuarto':9.4,\r\n",
        "          'quinto':8.3,\r\n",
        "          'sexto':9.3}\r\n",
        "secundaria={'1_secu':9,\r\n",
        "            '2_secu':8,\r\n",
        "            '3_secu':8.5}\r\n",
        "prepa={'1_prepa':9.9,\r\n",
        "       '2_prepa':9.1,\r\n",
        "       '3_prepa':9.3}\r\n",
        "datos={'nombre':'Ima',\r\n",
        "       'apellido':'Solano',\r\n",
        "       'ID':142536,\r\n",
        "       'dia_nacimiento':25}\r\n",
        "\r\n",
        "print(f\"En 3ro de primaria, su promedio fue de: {primaria['tercero']}\")\r\n",
        "for i in datos:\r\n",
        "  print(f\"Datos recabados: {i}, con su valor: {datos[i]} \")\r\n",
        "\r\n",
        "print(datos['nombre'].upper())\r\n",
        "\r\n"
      ],
      "execution_count": 16,
      "outputs": [
        {
          "output_type": "stream",
          "text": [
            "En 3ro de primaria, su promedio fue de: 8.4\n",
            "Datos recabados: nombre, con su valor: Ima \n",
            "Datos recabados: apellido, con su valor: Solano \n",
            "Datos recabados: ID, con su valor: 142536 \n",
            "Datos recabados: dia_nacimiento, con su valor: 25 \n",
            "IMA\n"
          ],
          "name": "stdout"
        }
      ]
    },
    {
      "cell_type": "code",
      "metadata": {
        "colab": {
          "base_uri": "https://localhost:8080/"
        },
        "id": "S_RTffF9SIL0",
        "outputId": "678c50c4-fe14-4aab-c7fb-d1583c4448ca"
      },
      "source": [
        "dir(dict)"
      ],
      "execution_count": 20,
      "outputs": [
        {
          "output_type": "execute_result",
          "data": {
            "text/plain": [
              "['__class__',\n",
              " '__contains__',\n",
              " '__delattr__',\n",
              " '__delitem__',\n",
              " '__dir__',\n",
              " '__doc__',\n",
              " '__eq__',\n",
              " '__format__',\n",
              " '__ge__',\n",
              " '__getattribute__',\n",
              " '__getitem__',\n",
              " '__gt__',\n",
              " '__hash__',\n",
              " '__init__',\n",
              " '__init_subclass__',\n",
              " '__iter__',\n",
              " '__le__',\n",
              " '__len__',\n",
              " '__lt__',\n",
              " '__ne__',\n",
              " '__new__',\n",
              " '__reduce__',\n",
              " '__reduce_ex__',\n",
              " '__repr__',\n",
              " '__setattr__',\n",
              " '__setitem__',\n",
              " '__sizeof__',\n",
              " '__str__',\n",
              " '__subclasshook__',\n",
              " 'clear',\n",
              " 'copy',\n",
              " 'fromkeys',\n",
              " 'get',\n",
              " 'items',\n",
              " 'keys',\n",
              " 'pop',\n",
              " 'popitem',\n",
              " 'setdefault',\n",
              " 'update',\n",
              " 'values']"
            ]
          },
          "metadata": {
            "tags": []
          },
          "execution_count": 20
        }
      ]
    },
    {
      "cell_type": "markdown",
      "metadata": {
        "id": "a0ZC8g7rVtt_"
      },
      "source": [
        "#Mnipulación de los pares llave valor. \r\n",
        "Para ello se emplean los metodos\r\n",
        "- keys() \r\n",
        "  - Te regresa una tupla con los strings llave de el diccionario\r\n",
        "- values()\r\n",
        "  - Te regresa solo los valores\r\n",
        "- items()\r\n",
        "  - Regresa los pares"
      ]
    },
    {
      "cell_type": "code",
      "metadata": {
        "colab": {
          "base_uri": "https://localhost:8080/"
        },
        "id": "zFqDaDT-WNSn",
        "outputId": "5df47660-db2f-43e4-d58b-4fc2a3780760"
      },
      "source": [
        "print(datos)\r\n",
        "llaves=datos.keys()\r\n",
        "print(llaves)\r\n",
        "for elem in llaves:\r\n",
        "  print(elem)\r\n",
        "  print(datos[elem])\r\n",
        "print(\".-/-./.-/.-/.-/.-/.-/.-/\")\r\n",
        "#manipular valores\r\n",
        "valores=datos.values()\r\n",
        "print(valores)\r\n",
        "print(\".-/-./.-/.-/.-/.-/.-/.-/\")\r\n",
        "#manipular pares\r\n",
        "pares=datos.items()\r\n",
        "print(pares)\r\n",
        "for par in pares:\r\n",
        "  print(par)"
      ],
      "execution_count": 34,
      "outputs": [
        {
          "output_type": "stream",
          "text": [
            "{'nombre': 'Ima', 'apellido': 'Solano', 'ID': 142536, 'dia_nacimiento': 25}\n",
            "dict_keys(['nombre', 'apellido', 'ID', 'dia_nacimiento'])\n",
            "nombre\n",
            "Ima\n",
            "apellido\n",
            "Solano\n",
            "ID\n",
            "142536\n",
            "dia_nacimiento\n",
            "25\n",
            ".-/-./.-/.-/.-/.-/.-/.-/\n",
            "dict_values(['Ima', 'Solano', 142536, 25])\n",
            ".-/-./.-/.-/.-/.-/.-/.-/\n",
            "dict_items([('nombre', 'Ima'), ('apellido', 'Solano'), ('ID', 142536), ('dia_nacimiento', 25)])\n",
            "('nombre', 'Ima')\n",
            "('apellido', 'Solano')\n",
            "('ID', 142536)\n",
            "('dia_nacimiento', 25)\n"
          ],
          "name": "stdout"
        }
      ]
    }
  ]
}