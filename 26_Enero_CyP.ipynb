{
  "nbformat": 4,
  "nbformat_minor": 0,
  "metadata": {
    "colab": {
      "name": "26_Enero_CyP",
      "provenance": [],
      "authorship_tag": "ABX9TyNagsLUdMHefT6J7HapOHFm",
      "include_colab_link": true
    },
    "kernelspec": {
      "name": "python3",
      "display_name": "Python 3"
    }
  },
  "cells": [
    {
      "cell_type": "markdown",
      "metadata": {
        "id": "view-in-github",
        "colab_type": "text"
      },
      "source": [
        "<a href=\"https://colab.research.google.com/github/ImanolSolano/cyp_2021/blob/main/26_Enero_CyP.ipynb\" target=\"_parent\"><img src=\"https://colab.research.google.com/assets/colab-badge.svg\" alt=\"Open In Colab\"/></a>"
      ]
    },
    {
      "cell_type": "markdown",
      "metadata": {
        "id": "5HpVpGb2tF5c"
      },
      "source": [
        "# Listas de lenguaje pyhton 3\r\n",
        "1. Es una estructura de datos linealies, de 0 o n elementos. \r\n",
        "1. \"Equivale\" a los arreglos (No se usan tal cual)\r\n",
        "1. Se pueden utilizar diferentes tipos de datos. [1, 2, 3, 32] , [1, True, 2.35, \"Hola\"]\r\n",
        "1. Pueden ser anidads,listas de listas. [\"Melón\", \"Manzana roja\", \"Manzana amarilla\"]\r\n",
        "1. Su selector es de la forma: [ int ]\r\n",
        "1. Son mutables (son modificables).\r\n"
      ]
    },
    {
      "cell_type": "code",
      "metadata": {
        "colab": {
          "base_uri": "https://localhost:8080/"
        },
        "id": "v9q5cOgDstbR",
        "outputId": "505a709e-132b-4206-dc20-7c324e4803db"
      },
      "source": [
        "# Ejemplos\r\n",
        "numeros= [4,2,45,7,83,3]\r\n",
        "print(numeros)\r\n",
        "print(numeros[2]) #Seleccionar un numero en especifico\r\n",
        "\r\n",
        "#Una lista de 0 elementos\r\n",
        "colores=[] # Forma list()\r\n",
        "type(colores) #Para averiguar que tipo de dato es.  type() \r\n",
        "\r\n",
        "dias= list() #Frma de hacer una lista vacia con list()\r\n",
        "print(colores)\r\n",
        "print(dias)\r\n",
        "\r\n"
      ],
      "execution_count": 6,
      "outputs": [
        {
          "output_type": "stream",
          "text": [
            "[4, 2, 45, 7, 83, 3]\n",
            "45\n",
            "[]\n",
            "[]\n"
          ],
          "name": "stdout"
        }
      ]
    },
    {
      "cell_type": "code",
      "metadata": {
        "colab": {
          "base_uri": "https://localhost:8080/"
        },
        "id": "0nlCLUj0wG3z",
        "outputId": "08e39257-4701-4dc7-9991-08b37c13bf12"
      },
      "source": [
        "#Pueden ser diferentes tipos de datos.\r\n",
        "mi_lista=[1, 2, 3, \"José\", False, 1.76, [552345653, 44553412432, 556677888] ]\r\n",
        "print(mi_lista)\r\n",
        "print(mi_lista[5])\r\n",
        "print(mi_lista[6][1]) \r\n",
        "print(mi_lista[3][3]) #Concepto\r\n",
        "print(mi_lista[3][3::]) #Rebanado\r\n",
        "print(mi_lista[3][-1::]) #Rebanado\r\n",
        "mi_lista=[1, 2, 3, \"José\", False, 1.76, [\"552345653\", \"44553412432\", \"556677888\"] ]\r\n",
        "print( str(mi_lista[6][1][2]))\r\n"
      ],
      "execution_count": 20,
      "outputs": [
        {
          "output_type": "stream",
          "text": [
            "[1, 2, 3, 'José', False, 1.76, [552345653, 44553412432, 556677888]]\n",
            "1.76\n",
            "44553412432\n",
            "é\n",
            "é\n",
            "é\n",
            "5\n"
          ],
          "name": "stdout"
        }
      ]
    },
    {
      "cell_type": "code",
      "metadata": {
        "colab": {
          "base_uri": "https://localhost:8080/"
        },
        "id": "YUw7khAs0ScP",
        "outputId": "5508b257-4c97-433e-9557-f460895e59fa"
      },
      "source": [
        "frutas= [\"melon\",\"sandia\",\"Kiwi\",\"Aguacate\",\"Mango\",\"Platano\"]\r\n",
        "print(frutas)\r\n",
        "frutas[0]=\"Melón\"\r\n",
        "print(frutas)\r\n",
        "#frutas[1][0]=\"s\"\r\n",
        "#frutas[1]=frutas[1].capitalize()\r\n",
        "#print(frutas)\r\n",
        "\r\n",
        "frutas[1]=frutas[1][0].upper() + frutas[1][1:]\r\n",
        "print(frutas)"
      ],
      "execution_count": 32,
      "outputs": [
        {
          "output_type": "stream",
          "text": [
            "['melon', 'sandia', 'Kiwi', 'Aguacate', 'Mango', 'Platano']\n",
            "['Melón', 'sandia', 'Kiwi', 'Aguacate', 'Mango', 'Platano']\n",
            "['Melón', 'Sandia', 'Kiwi', 'Aguacate', 'Mango', 'Platano']\n"
          ],
          "name": "stdout"
        }
      ]
    },
    {
      "cell_type": "code",
      "metadata": {
        "colab": {
          "base_uri": "https://localhost:8080/"
        },
        "id": "WcCBlvUM2IPn",
        "outputId": "03607626-f9cb-43b5-ec8d-7ca545e8be81"
      },
      "source": [
        "#Las listas son clases por lo tanto tienen metodos \r\n",
        "\r\n",
        "frutas.append(\"Fresa\")#Ejemplo .append (Elemento al final)\r\n",
        "print(frutas)\r\n",
        "frutas= [\"melon\",\"sandia\",\"Kiwi\",\"Aguacate\",\"Mango\",\"Platano\"]\r\n",
        "print(\"Ejemplos de copias\")\r\n",
        "otras_frutas=frutas.copy()\r\n",
        "print(frutas)\r\n",
        "print(otras_frutas)\r\n",
        "\r\n",
        "otras_frutas[0]=\"chico zapote\"\r\n",
        "print(otras_frutas)\r\n",
        "\r\n",
        "print(\"Ejemplo de extend()\")\r\n",
        "colores=[\"Rojo\",\"Verde\",\"Azul\"]\r\n",
        "frutas.extend(colores) #Agregar ls datos como datos independientes dentro de otra lista\r\n",
        "print(frutas)\r\n",
        "print(\"Ejemplo .insert()\")\r\n",
        "print(f\"Tamaño de la lista= {len(frutas)}\")\r\n",
        "frutas.insert(3,\"Limón\") #Para agregar un dato en alguna posicion especifica\r\n",
        "print(f\"Tamaño de la lista= {len(frutas)}\")\r\n",
        "print(frutas)\r\n",
        "\r\n",
        "print(\"Ejemplo .remove(), eliminar el kiwi\")\r\n",
        "frutas.remove(\"Kiwi\") #Para poder eliminar un dato en especifico\r\n",
        "print(frutas)\r\n",
        "\r\n",
        "print(\"Ejemplo con del()\")\r\n",
        "del frutas[2] #Operador de lista\r\n",
        "print(frutas)\r\n",
        "\r\n",
        "print(\"-------------\")\r\n",
        "\r\n",
        "frutas.clear()#Limpias por completo la lista\r\n",
        "print(frutas)"
      ],
      "execution_count": 49,
      "outputs": [
        {
          "output_type": "stream",
          "text": [
            "['Fresa']\n",
            "Ejemplos de copias\n",
            "['melon', 'sandia', 'Kiwi', 'Aguacate', 'Mango', 'Platano']\n",
            "['melon', 'sandia', 'Kiwi', 'Aguacate', 'Mango', 'Platano']\n",
            "['chico zapote', 'sandia', 'Kiwi', 'Aguacate', 'Mango', 'Platano']\n",
            "Ejemplo de extend()\n",
            "['melon', 'sandia', 'Kiwi', 'Aguacate', 'Mango', 'Platano', 'Rojo', 'Verde', 'Azul']\n",
            "Ejemplo .insert()\n",
            "Tamaño de la lista= 9\n",
            "Tamaño de la lista= 10\n",
            "['melon', 'sandia', 'Kiwi', 'Limón', 'Aguacate', 'Mango', 'Platano', 'Rojo', 'Verde', 'Azul']\n",
            "Ejemplo .remove(), eliminar el kiwi\n",
            "['melon', 'sandia', 'Limón', 'Aguacate', 'Mango', 'Platano', 'Rojo', 'Verde', 'Azul']\n",
            "Ejemplo con del()\n",
            "['melon', 'sandia', 'Aguacate', 'Mango', 'Platano', 'Rojo', 'Verde', 'Azul']\n",
            "-------------\n",
            "[]\n"
          ],
          "name": "stdout"
        }
      ]
    },
    {
      "cell_type": "code",
      "metadata": {
        "colab": {
          "base_uri": "https://localhost:8080/"
        },
        "id": "N_t7UOo6FKNm",
        "outputId": "e9b5d118-de2f-47a6-9649-70dfcf7ffa16"
      },
      "source": [
        "#Slicing sobre listas\r\n",
        "frutas= [\"melon\",\"sandia\",\"Kiwi\",\"Aguacate\",\"Mango\",\"Platano\"]\r\n",
        "print(frutas[1:4])\r\n",
        "\r\n",
        "sist_operativos= [\"Windows\",\"Mac OS\", \"Linux\", \"Android\"]\r\n",
        "autos=[\"Ford\" ,\"Mazda\" ,\"Honda\"]\r\n",
        "\r\n",
        "cosas=[sist_operativos,autos]\r\n",
        "print(cosas)\r\n",
        "print(cosas[1])\r\n",
        "print(cosas[1][2])\r\n",
        "print(cosas[0][2])\r\n",
        "print(cosas[0][3][2:5:])\r\n",
        "print(cosas[1][1][-2:-5:-1])"
      ],
      "execution_count": 62,
      "outputs": [
        {
          "output_type": "stream",
          "text": [
            "['sandia', 'Kiwi', 'Aguacate']\n",
            "[['Windows', 'Mac OS', 'Linux', 'Android'], ['Ford', 'Mazda', 'Honda']]\n",
            "['Ford', 'Mazda', 'Honda']\n",
            "Honda\n",
            "Linux\n",
            "dro\n",
            "dza\n"
          ],
          "name": "stdout"
        }
      ]
    }
  ]
}