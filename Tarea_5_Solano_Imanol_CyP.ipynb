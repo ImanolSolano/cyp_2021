{
  "nbformat": 4,
  "nbformat_minor": 0,
  "metadata": {
    "colab": {
      "name": "Tarea_5_Solano_Imanol_CyP",
      "provenance": [],
      "authorship_tag": "ABX9TyPk2Gja0Prql5+Hoz12+jnJ",
      "include_colab_link": true
    },
    "kernelspec": {
      "name": "python3",
      "display_name": "Python 3"
    }
  },
  "cells": [
    {
      "cell_type": "markdown",
      "metadata": {
        "id": "view-in-github",
        "colab_type": "text"
      },
      "source": [
        "<a href=\"https://colab.research.google.com/github/ImanolSolano/cyp_2021/blob/main/Tarea_5_Solano_Imanol_CyP.ipynb\" target=\"_parent\"><img src=\"https://colab.research.google.com/assets/colab-badge.svg\" alt=\"Open In Colab\"/></a>"
      ]
    },
    {
      "cell_type": "code",
      "metadata": {
        "colab": {
          "base_uri": "https://localhost:8080/"
        },
        "id": "R8y91T2Fb3Hv",
        "outputId": "aef415b2-9b1f-4f66-93ab-825adb465ce4"
      },
      "source": [
        "#Ejercicio 3.1\n",
        "nomina=(0)\n",
        "i=(0)\n",
        "for i in range (10):\n",
        "  if (i<=10):\n",
        "    sue=float(input(\"Ingresa el sueldo del trabajador: $\"))\n",
        "    nomina=nomina+sue\n",
        "    i=i+1\n",
        "    print(\"La nomina de la empresa es de: $\",nomina)\n",
        "else:\n",
        "  print(\"La nomina total de la empresa es de: $\",nomina)"
      ],
      "execution_count": 39,
      "outputs": [
        {
          "output_type": "stream",
          "text": [
            "Ingresa el sueldo del trabajador: $1500\n",
            "La nomina de la empresa es de: $ 1500.0\n",
            "Ingresa el sueldo del trabajador: $890\n",
            "La nomina de la empresa es de: $ 2390.0\n",
            "Ingresa el sueldo del trabajador: $700\n",
            "La nomina de la empresa es de: $ 3090.0\n",
            "Ingresa el sueldo del trabajador: $950\n",
            "La nomina de la empresa es de: $ 4040.0\n",
            "Ingresa el sueldo del trabajador: $2300\n",
            "La nomina de la empresa es de: $ 6340.0\n",
            "Ingresa el sueldo del trabajador: $1650\n",
            "La nomina de la empresa es de: $ 7990.0\n",
            "Ingresa el sueldo del trabajador: $1800\n",
            "La nomina de la empresa es de: $ 9790.0\n",
            "Ingresa el sueldo del trabajador: $1400\n",
            "La nomina de la empresa es de: $ 11190.0\n",
            "Ingresa el sueldo del trabajador: $760\n",
            "La nomina de la empresa es de: $ 11950.0\n",
            "Ingresa el sueldo del trabajador: $900\n",
            "La nomina de la empresa es de: $ 12850.0\n",
            "La nomina total de la empresa es de: $ 12850.0\n"
          ],
          "name": "stdout"
        }
      ]
    },
    {
      "cell_type": "code",
      "metadata": {
        "id": "LqyD3tkQpaJM",
        "outputId": "bae51b30-b28d-4b15-8ae7-0d3f3a4caa84",
        "colab": {
          "base_uri": "https://localhost:8080/"
        }
      },
      "source": [
        "#Ejercicio 3.4\n",
        "gasto=0\n",
        "sugmas=0\n",
        "i=1.0\n",
        "while i > 0:\n",
        "  gasto=float(input(\"Ingresa la cantidad del gasto: $\"))\n",
        "  sugmas += ( gasto if gasto > 0.0 else 0.0 )\n",
        "  i=gasto\n",
        "print(f\"Su gasto fue de: $\",sugmas)"
      ],
      "execution_count": 68,
      "outputs": [
        {
          "output_type": "stream",
          "text": [
            "Ingresa la cantidad del gasto: $2528\n",
            "Ingresa la cantidad del gasto: $3500\n",
            "Ingresa la cantidad del gasto: $1600\n",
            "Ingresa la cantidad del gasto: $1850\n",
            "Ingresa la cantidad del gasto: $150\n",
            "Ingresa la cantidad del gasto: $-1\n",
            "Su gasto fue de: $ 9628.0\n"
          ],
          "name": "stdout"
        }
      ]
    }
  ]
}