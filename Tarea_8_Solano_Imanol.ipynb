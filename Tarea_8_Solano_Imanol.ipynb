{
  "nbformat": 4,
  "nbformat_minor": 0,
  "metadata": {
    "colab": {
      "name": "Tarea_8_Solano_Imanol",
      "provenance": [],
      "authorship_tag": "ABX9TyN82Oz4wK+a2IDfW/wIxQsK",
      "include_colab_link": true
    },
    "kernelspec": {
      "name": "python3",
      "display_name": "Python 3"
    }
  },
  "cells": [
    {
      "cell_type": "markdown",
      "metadata": {
        "id": "view-in-github",
        "colab_type": "text"
      },
      "source": [
        "<a href=\"https://colab.research.google.com/github/ImanolSolano/cyp_2021/blob/main/Tarea_8_Solano_Imanol.ipynb\" target=\"_parent\"><img src=\"https://colab.research.google.com/assets/colab-badge.svg\" alt=\"Open In Colab\"/></a>"
      ]
    },
    {
      "cell_type": "code",
      "metadata": {
        "colab": {
          "base_uri": "https://localhost:8080/"
        },
        "id": "AI8CfB8AHV3a",
        "outputId": "0bcbf623-6c32-483f-c0a1-914cda98d806"
      },
      "source": [
        "print(\"\\uA9CB\", \"\\u27B3\", \"\\u27B3\", \"\\u27B3\", \"\\u27B3\", \"\\u27B3\", \"\\u27B3\", \"\\u27B3\", \"\\u27B3\", \"\\u27B3\", \"\\u27B3\", \"\\u27B3\", \"\\u27B3\", \"\\u27B3\", \"\\u27B3\", \"\\u27B3\", \"\\u27B3\",\" \\uA9CB\")\r\n",
        "print(\"\\uA9CB\",\"\\t\\t\\t\\t\\t\\t\\uA9CB\")\r\n",
        "print(\"\\uA9CB\", \"\\uA56F\", \"\\uA56F\", \"\\uA56F\",\"\\t\\t\\t\\t\\t\\uA9CB\") \r\n",
        "print(\"\\uA9CB\", \" \", \"\\uA56F\",\" \",\"\\t\\uA56E\",\"  \",\"\\uA56E\",\"\\t\",\" \\uA5C8\",\"\\t\\t\\uA9CB\")\r\n",
        "print(\"\\uA9CB\", \" \",\"\\uA56F\",\" \",\"\\t\\uA56E\",\"\\uA56E\",\"\\uA56E\",\"\\t\\uA5C8\", \" \\uA5C8\",\"\\t\\t\\uA9CB\")\r\n",
        "print(\"\\uA9CB\", \" \",\"\\uA56F\",\" \",\"\\t\\uA56E\",\"  \",\"\\uA56E\", \"     \",\"\\uA5C8\", \" \\uA5C8\", \" \\uA5C8\",\"\\t\\uA9CB\")\r\n",
        "print(\"\\uA9CB\",\"\\uA56F\",\"\\uA56F\",\"\\uA56F\",\"       \",\"\\uA56E\",\"  \",\"\\uA56E\",\"   \", \"\\uA5C8\",\"      \", \"  \\uA5C8\",\"\\t\\uA9CB\")\r\n",
        "print(\"\\uA9CB\",\"\\t\\t\\t\\t\\t\\t\\uA9CB\")\r\n",
        "print(\"\\u27B3\", \"\\u27B3\", \"\\u27B3\", \"\\u27B3\", \"\\u27B3\", \"\\u27B3\", \"\\u27B3\", \"\\u27B3\", \"\\u27B3\", \"\\u27B3\", \"\\u27B3\", \"\\u27B3\", \"\\u27B3\", \"\\u27B3\", \"\\u27B3\", \"\\u27B3\")"
      ],
      "execution_count": 134,
      "outputs": [
        {
          "output_type": "stream",
          "text": [
            "꧋ ➳ ➳ ➳ ➳ ➳ ➳ ➳ ➳ ➳ ➳ ➳ ➳ ➳ ➳ ➳ ➳  ꧋\n",
            "꧋ \t\t\t\t\t\t꧋\n",
            "꧋ ꕯ ꕯ ꕯ \t\t\t\t\t꧋\n",
            "꧋   ꕯ   \tꕮ    ꕮ \t  ꗈ \t\t꧋\n",
            "꧋   ꕯ   \tꕮ ꕮ ꕮ \tꗈ  ꗈ \t\t꧋\n",
            "꧋   ꕯ   \tꕮ    ꕮ       ꗈ  ꗈ  ꗈ \t꧋\n",
            "꧋ ꕯ ꕯ ꕯ         ꕮ    ꕮ     ꗈ          ꗈ \t꧋\n",
            "꧋ \t\t\t\t\t\t꧋\n",
            "➳ ➳ ➳ ➳ ➳ ➳ ➳ ➳ ➳ ➳ ➳ ➳ ➳ ➳ ➳ ➳\n"
          ],
          "name": "stdout"
        }
      ]
    }
  ]
}