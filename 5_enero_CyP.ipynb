{
  "nbformat": 4,
  "nbformat_minor": 0,
  "metadata": {
    "colab": {
      "name": "5_enero_CyP",
      "provenance": [],
      "authorship_tag": "ABX9TyMFrCCjUy0uGQs5BNBtN5aC",
      "include_colab_link": true
    },
    "kernelspec": {
      "name": "python3",
      "display_name": "Python 3"
    }
  },
  "cells": [
    {
      "cell_type": "markdown",
      "metadata": {
        "id": "view-in-github",
        "colab_type": "text"
      },
      "source": [
        "<a href=\"https://colab.research.google.com/github/ImanolSolano/cyp_2021/blob/main/5_enero_CyP.ipynb\" target=\"_parent\"><img src=\"https://colab.research.google.com/assets/colab-badge.svg\" alt=\"Open In Colab\"/></a>"
      ]
    },
    {
      "cell_type": "code",
      "metadata": {
        "colab": {
          "base_uri": "https://localhost:8080/"
        },
        "id": "L-7KnKl5jtrv",
        "outputId": "429dba4a-08a8-4e95-b454-77564d037453"
      },
      "source": [
        "sueldos=[0.0 for x in range(7)]\r\n",
        "print(sueldos)\r\n",
        "sueldos[0]=12.3\r\n",
        "sueldos[1]=32.3\r\n",
        "sueldos[2]=43.3\r\n",
        "sueldos[3]=11.3\r\n",
        "sueldos[4]=77.3\r\n",
        "sueldos[5]=88.3\r\n",
        "sueldos[6]=99.3\r\n",
        "print(sueldos)\r\n",
        "\r\n",
        "#Como le hacemos para asignar valor de 1.0 al 7.0 con for\r\n",
        "\"\"\"\r\n",
        "for i in range(7):\r\n",
        "  sueldos[i]=float(input(\"Introduce un sueldo: \"))\r\n",
        "  print(sueldos2)\r\n",
        "\"\"\"\r\n",
        "\r\n",
        "sueldo=[float(x) for x in range(7)]\r\n",
        "for i in range (0,7):\r\n",
        "  sueldo[i]= float(i) + 1.0\r\n",
        "print(sueldo)\r\n",
        "\r\n",
        "\r\n",
        "for i in range(7):\r\n",
        "  print(f\"El trabajador {int(i)+1} gana $ {sueldo[i]}\")"
      ],
      "execution_count": 11,
      "outputs": [
        {
          "output_type": "stream",
          "text": [
            "[0.0, 0.0, 0.0, 0.0, 0.0, 0.0, 0.0]\n",
            "[12.3, 32.3, 43.3, 11.3, 77.3, 88.3, 99.3]\n",
            "[1.0, 2.0, 3.0, 4.0, 5.0, 6.0, 7.0]\n",
            "El trabajador 1 gana $ 1.0\n",
            "El trabajador 2 gana $ 2.0\n",
            "El trabajador 3 gana $ 3.0\n",
            "El trabajador 4 gana $ 4.0\n",
            "El trabajador 5 gana $ 5.0\n",
            "El trabajador 6 gana $ 6.0\n",
            "El trabajador 7 gana $ 7.0\n"
          ],
          "name": "stdout"
        }
      ]
    },
    {
      "cell_type": "code",
      "metadata": {
        "colab": {
          "base_uri": "https://localhost:8080/"
        },
        "id": "U-WcvA7GokM2",
        "outputId": "b1cd63db-473a-4ab4-c655-4e6880879514"
      },
      "source": [
        "#problema 4.1\r\n",
        "maximo=7\r\n",
        "sueldos=[0.0 for x in range(maximo)]\r\n",
        "suma=0.0\r\n",
        "promedio=0.0\r\n",
        "for i in range(maximo):\r\n",
        "  sueldos[i]=float(input(\"Dame el sueldo: \"))\r\n",
        "\r\n",
        "for i in range(maximo):\r\n",
        "  print(f\"Trabajador {i+1}, gana: {sueldos[i]}\")\r\n",
        "\r\n",
        "for i in range(maximo):\r\n",
        "  suma= suma+sueldos[i]\r\n",
        "promedio=suma/maximo\r\n",
        "print(f\"El promedio de sueldo es: ${promedio}\")\r\n",
        "\r\n",
        "for i in range(maximo):\r\n",
        "  if sueldos[i]>promedio:\r\n",
        "    print(f\"El trabajador {i+1} tiene un sueldo mayor al promedio\")\r\n",
        "    "
      ],
      "execution_count": 15,
      "outputs": [
        {
          "output_type": "stream",
          "text": [
            "Dame el sueldo: 4\n",
            "Dame el sueldo: 5\n",
            "Dame el sueldo: 4\n",
            "Dame el sueldo: 5\n",
            "Dame el sueldo: 4\n",
            "Dame el sueldo: 5\n",
            "Dame el sueldo: 4\n",
            "Trabajador 1, gana: 4.0\n",
            "Trabajador 2, gana: 5.0\n",
            "Trabajador 3, gana: 4.0\n",
            "Trabajador 4, gana: 5.0\n",
            "Trabajador 5, gana: 4.0\n",
            "Trabajador 6, gana: 5.0\n",
            "Trabajador 7, gana: 4.0\n",
            "El promedio de sueldo es: $4.428571428571429\n",
            "El trabajador 2 tiene un sueldo mayor al promedio\n",
            "El trabajador 4 tiene un sueldo mayor al promedio\n",
            "El trabajador 6 tiene un sueldo mayor al promedio\n"
          ],
          "name": "stdout"
        }
      ]
    },
    {
      "cell_type": "code",
      "metadata": {
        "id": "Zgs451mRqwR2"
      },
      "source": [
        "#Programa que solicite 5 valores enteros positivos, determinando:\r\n",
        "#Valor mayor \r\n",
        "#valor menor \r\n",
        "#Promedio\r\n",
        "\r\n",
        "rango=5\r\n",
        "v_maximo=0\r\n",
        "v_minimo=1000\r\n",
        "promedio=0\r\n",
        "suma=0.0\r\n",
        "valor=[0.0 for x in range(rango)]\r\n",
        "for i in range(rango):\r\n",
        "  valor[i]=input(\"Ingresa un valor positivo y entero: \")\r\n",
        "  if (valor[i] > v_maximo):\r\n",
        "    v_maximo=valor[i]\r\n",
        "  else:\r\n",
        "    valor[i]<v_minimo\r\n",
        "    v_minimo=valor[i]\r\n",
        "  promedio=suma/rango\r\n",
        "  print(f\"El número mayor es: {v_maximo}\")\r\n",
        "  print(f\"El número menor es: {v_minimo}\")\r\n",
        "  print(f\"El promedio de los valores ingresados es: {promedio}\")"
      ],
      "execution_count": null,
      "outputs": []
    },
    {
      "cell_type": "code",
      "metadata": {
        "colab": {
          "base_uri": "https://localhost:8080/"
        },
        "id": "Ar3m8FFmw4Mq",
        "outputId": "c695f78c-3251-4107-fd62-edfd5b9fb5e2"
      },
      "source": [
        "#Problema 4.1\r\n",
        "n = int(input(\"Ingrese el número de elementos del arreglo: \"))\r\n",
        "\r\n",
        "if 1 <= n and n <= 500:\r\n",
        "  vec=[0 for x in range(n)]\r\n",
        "  for I in range(n):\r\n",
        "    vec[I]=int(input(\"Ingrese valor\" + str(I +1) +\":\"))\r\n",
        "  print(\"Lista de números sin repeticiones: \")\r\n",
        "  I=0\r\n",
        "  while I < n:\r\n",
        "    print(I,\"=\",vec[I])\r\n",
        "    repet=vec[I]\r\n",
        "    while I < n and repet == vec[I]:\r\n",
        "      #print(\"Incrementa I\", I)\r\n",
        "      I= I+1\r\n",
        "    I=I+1\r\n",
        "else:\r\n",
        "  print(\"El numero de elementos del arreglo es incorrecto :)\")\r\n"
      ],
      "execution_count": 32,
      "outputs": [
        {
          "output_type": "stream",
          "text": [
            "Ingrese el número de elementos del arreglo: 10\n",
            "Ingrese valor1:2\n",
            "Ingrese valor2:3\n",
            "Ingrese valor3:3\n",
            "Ingrese valor4:3\n",
            "Ingrese valor5:10\n",
            "Ingrese valor6:20\n",
            "Ingrese valor7:20\n",
            "Ingrese valor8:40\n",
            "Ingrese valor9:43\n",
            "Ingrese valor10:51\n",
            "Lista de números sin repeticiones: \n",
            "0 = 2\n",
            "2 = 3\n",
            "5 = 20\n",
            "8 = 43\n"
          ],
          "name": "stdout"
        }
      ]
    }
  ]
}