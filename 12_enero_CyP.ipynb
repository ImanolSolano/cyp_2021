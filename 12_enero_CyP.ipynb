{
  "nbformat": 4,
  "nbformat_minor": 0,
  "metadata": {
    "colab": {
      "name": "12_enero_CyP",
      "provenance": [],
      "authorship_tag": "ABX9TyPfQPGykrweNyaUjchRP4zq",
      "include_colab_link": true
    },
    "kernelspec": {
      "name": "python3",
      "display_name": "Python 3"
    }
  },
  "cells": [
    {
      "cell_type": "markdown",
      "metadata": {
        "id": "view-in-github",
        "colab_type": "text"
      },
      "source": [
        "<a href=\"https://colab.research.google.com/github/ImanolSolano/cyp_2021/blob/main/12_enero_CyP.ipynb\" target=\"_parent\"><img src=\"https://colab.research.google.com/assets/colab-badge.svg\" alt=\"Open In Colab\"/></a>"
      ]
    },
    {
      "cell_type": "markdown",
      "metadata": {
        "id": "CGqXZXCwpSVY"
      },
      "source": [
        "#Introducción a Python\r\n",
        "- Cread en los 90's por Guido Van R. \r\n",
        "- En el 2000 Python mejoró, teniendo nuevas caracteristicas. \r\n",
        "-En el 2020 deja de ser la versión oficial Python 2.7 dandole soporte a Python 3 en adelante. \r\n",
        "\r\n",
        "\r\n",
        "# Caracteristicas de Python \r\n",
        "1. Lenguaje de proposito general.\r\n",
        "2. Interpretado y no-compilado. \r\n",
        "3.  Tipo de datos dinámicos. (Numéricos, cadena, bool, entre otros)\r\n",
        "4. Multiplataforma.\r\n",
        "5. Lenguaje multi_paradigma (Imperativa, orientada a objetos y funcional)\r\n",
        "6. Codigo estructurado por identación. \r\n",
        "---\r\n",
        "    if a < 10:\r\n",
        "      print(\"hola\") #Este pertenece al if de arriba.\r\n",
        "    print(\"Equis cosa\") #Este ya no pertenece al primero, ya es uno independiente.\r\n",
        "---\r\n",
        "\r\n",
        "#Principios ZEN de Python\r\n",
        "\r\n",
        "Son las caracteristicas que guian el diseño del lenguaje de programación Python. \r\n",
        "\r\n"
      ]
    },
    {
      "cell_type": "code",
      "metadata": {
        "colab": {
          "base_uri": "https://localhost:8080/"
        },
        "id": "5YfvUTI4mCnX",
        "outputId": "92875090-30b7-48b4-8f74-f1c4ad74c745"
      },
      "source": [
        "# Primer programa python 3\r\n",
        "nombre=\"Jose\"\r\n",
        "edad=18\r\n",
        "print(\"Hola\", nombre , edad)"
      ],
      "execution_count": 3,
      "outputs": [
        {
          "output_type": "stream",
          "text": [
            "Hola Jose 18\n"
          ],
          "name": "stdout"
        }
      ]
    },
    {
      "cell_type": "markdown",
      "metadata": {
        "id": "rsdBf33Cv4u0"
      },
      "source": [
        "#La función print()\r\n",
        "\r\n",
        "Es una de las funciones mas empleadas en programación y busca enviar datos a la salida estandar. \r\n",
        "\r\n",
        "##Formas de uso \r\n",
        "1. Con comas\r\n",
        "2. Con signos\r\n",
        "3. .format()\r\n",
        "4. El operadr \"f\"\r\n",
        "\r\n",
        "####Con comas \r\n",
        "Concatena los argumentos enviados a print y les agrega un espacio. \r\n",
        "\r\n",
        "####Con signos +\r\n",
        "concatena los valores sin espacio y sin hacer conversion de tipos\r\n",
        "\r\n",
        "####Con la función format()\r\n",
        "Permite darle formato a la salida de la impresión de variables, empleando la función format del tipo de dato String. \r\n",
        "\r\n",
        "\" cadena a formatear \".format(v1,v2,v3...vn)\r\n",
        "\r\n",
        "Emplea como comodines para sustituir valores los signos {}.\r\n",
        "\r\n",
        "####Con el operador f\"\"\r\n",
        "Es una variante de la forma anterior pero enmascarado la función format()\r\n",
        "\r\n",
        "print(f\" equis {variable} otra cosa {variable} y mas {variable}\")"
      ]
    },
    {
      "cell_type": "code",
      "metadata": {
        "colab": {
          "base_uri": "https://localhost:8080/"
        },
        "id": "212LL35CvpQs",
        "outputId": "2ab8e110-12d4-4fe2-c048-8899845f0d0f"
      },
      "source": [
        "print(\"Hola\", nombre , edad )\r\n",
        "\r\n",
        "print(\"Hola \" + nombre + \" \" + str(edad) )\r\n",
        "\r\n",
        "#Nombre: Jose, con una edad de: 18 años\r\n",
        "print(\"Nombre: \", nombre, \"con una edad de: \", edad, \"años\")\r\n",
        "print(\"Nombre: \" + nombre + \" con una edad de: \" + str(edad) + \"años\")\r\n",
        "\r\n",
        "#Con format()\r\n",
        "print(\"Nombre: {} con una edad de: {} años.\".format(nombre,edad))\r\n",
        "\r\n",
        "#Con el operador F\"\"\r\n",
        "print(f\"Nombre: {nombre} con una edad de: {edad} años.\")\r\n"
      ],
      "execution_count": 14,
      "outputs": [
        {
          "output_type": "stream",
          "text": [
            "Hola Jose 18\n",
            "Hola Jose 18\n",
            "Nombre:  Jose con una edad de:  18 años\n",
            "Nombre: Jose con una edad de: 18años\n",
            "Nombre: Jose con una edad de: 18 años.\n",
            "Nombre: Jose con una edad de: 18 años.\n"
          ],
          "name": "stdout"
        }
      ]
    },
    {
      "cell_type": "markdown",
      "metadata": {
        "id": "YDOSRm_F2L-1"
      },
      "source": [
        "# Función print() y los caracteres de escape. \r\n",
        "- \\n salto de línea\r\n",
        "- \\t tabulador\r\n",
        "- \\\\ imprimir la diagonal \\\r\n",
        "- \\' y \\\"\r\n",
        "- \\uxxxx\r\n",
        "- \\uxxxxxxxx\r\n",
        "- "
      ]
    },
    {
      "cell_type": "code",
      "metadata": {
        "colab": {
          "base_uri": "https://localhost:8080/"
        },
        "id": "SntlAZWe2dyL",
        "outputId": "46057434-5eda-4d4b-f1cd-0251c0a5bc0b"
      },
      "source": [
        "print('\"')\r\n",
        "print(\"\\\"\")\r\n",
        "print(\"Nombre: José\\ncon una edad de: 18 años.\")\r\n",
        "print(\"Nombre: José\\n\\tcon una edad de: 18 años.\")\r\n",
        "print(\"Nombre: José\\n\\tcon una edad de: \\\\18 años.\")\r\n",
        "\r\n",
        "#Caracteres unicode\r\n",
        "\r\n",
        "print(\"Hola \\u2661\")\r\n",
        "print(\"Hola \\u553F\")\r\n",
        "print(\"\\u261C\")"
      ],
      "execution_count": 24,
      "outputs": [
        {
          "output_type": "stream",
          "text": [
            "\"\n",
            "\"\n",
            "Nombre: José\n",
            "con una edad de: 18 años.\n",
            "Nombre: José\n",
            "\tcon una edad de: 18 años.\n",
            "Nombre: José\n",
            "\tcon una edad de: \\18 años.\n",
            "Hola ♡\n",
            "Hola 唿\n",
            "☜\n"
          ],
          "name": "stdout"
        }
      ]
    },
    {
      "cell_type": "markdown",
      "metadata": {
        "id": "p6-nPQx68C9I"
      },
      "source": [
        "#print() y salto de línea en el argumento. \r\n",
        "\r\n",
        "print([lista de variables] , end=\"\\n\")"
      ]
    },
    {
      "cell_type": "code",
      "metadata": {
        "colab": {
          "base_uri": "https://localhost:8080/"
        },
        "id": "LL47_BBC8Uau",
        "outputId": "f7b9c078-049c-4f29-b6e1-3693aef66d17"
      },
      "source": [
        "print(\"Hola\", end=\" \\u13CD \")\r\n",
        "print(\"Mundo\", end=\" +++ \")\r\n",
        "print(\"Fin\", end=\"\\n\")"
      ],
      "execution_count": 30,
      "outputs": [
        {
          "output_type": "stream",
          "text": [
            "Hola Ꮝ Mundo +++ Fin\n"
          ],
          "name": "stdout"
        }
      ]
    },
    {
      "cell_type": "markdown",
      "metadata": {
        "id": "RXOzXT6i9epU"
      },
      "source": [
        "# Comentarios en Python. \r\n",
        "Un comentario en programación es un texto especial que es ignorado por el interprete o compilador (Seún sea el caso del lenguage) y es empleado para que el programador documente sus algoritmos. \r\n",
        "\r\n",
        "Existen de dos tipos: \r\n",
        "- Linea simple\r\n",
        "- Multiples lineas\r\n",
        "\r\n",
        "En python para lineas simples\r\n",
        "- Se emplea #\r\n",
        "y para lineas multiples\r\n",
        "- se emplea \r\n"
      ]
    },
    {
      "cell_type": "code",
      "metadata": {
        "colab": {
          "base_uri": "https://localhost:8080/"
        },
        "id": "vkiMoiMN-gyv",
        "outputId": "e4db95c8-5a39-4313-8b62-2bbd1717b8f6"
      },
      "source": [
        "print(\"Hola\")\r\n",
        "#print(\"Hola\")\r\n",
        "#Cualquier cosa\r\n",
        "print(\"Hola\")\r\n",
        "print(\"Hola\")#Esta linea imprime hola\r\n",
        "print(\"Hola\")\r\n",
        "#Sin embargo si se pone antes de la acción tdo se vuelve un comentario print(\"Hola\")\r\n",
        "print(\"Hola\")\r\n",
        "\"\"\"\r\n",
        "Esto es un comentario\r\n",
        "de multiple linea\r\n",
        "Ideal para explicar algo a fondo\r\n",
        "Cualquier cosa que reqiera mayor detalle\r\n",
        "\"\"\"\r\n",
        "print(\"Hola\")"
      ],
      "execution_count": 31,
      "outputs": [
        {
          "output_type": "stream",
          "text": [
            "Hola\n",
            "Hola\n",
            "Hola\n",
            "Hola\n",
            "Hola\n",
            "Hola\n"
          ],
          "name": "stdout"
        }
      ]
    }
  ]
}