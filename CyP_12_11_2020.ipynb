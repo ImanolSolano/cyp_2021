{
  "nbformat": 4,
  "nbformat_minor": 0,
  "metadata": {
    "colab": {
      "name": "CyP 12/11/2020",
      "provenance": [],
      "collapsed_sections": [],
      "authorship_tag": "ABX9TyMACDAKUjkxgP/fs0OsRY5i",
      "include_colab_link": true
    },
    "kernelspec": {
      "name": "python3",
      "display_name": "Python 3"
    }
  },
  "cells": [
    {
      "cell_type": "markdown",
      "metadata": {
        "id": "view-in-github",
        "colab_type": "text"
      },
      "source": [
        "<a href=\"https://colab.research.google.com/github/ImanolSolano/cyp_2021/blob/main/CyP_12_11_2020.ipynb\" target=\"_parent\"><img src=\"https://colab.research.google.com/assets/colab-badge.svg\" alt=\"Open In Colab\"/></a>"
      ]
    },
    {
      "cell_type": "code",
      "metadata": {
        "id": "uWcloLaicFt1",
        "outputId": "d2a47393-3280-49b5-e1ad-5f9973a49c52",
        "colab": {
          "base_uri": "https://localhost:8080/"
        }
      },
      "source": [
        "numero=int (input(\"Dame un numero\"))\n",
        "if numero >0:\n",
        "  print(\"El número es positivo\")\n",
        "print(\"fin del programa\")"
      ],
      "execution_count": 3,
      "outputs": [
        {
          "output_type": "stream",
          "text": [
            "Dame un numero2\n",
            "El número es positivo\n",
            "fin del programa\n"
          ],
          "name": "stdout"
        }
      ]
    },
    {
      "cell_type": "code",
      "metadata": {
        "id": "fklzJ692fMED",
        "outputId": "64977a84-0630-48ae-e435-1852f6aa9a29",
        "colab": {
          "base_uri": "https://localhost:8080/"
        }
      },
      "source": [
        "numero=int (input(\"Coloca un numero\"))\n",
        "if numero >0: #if significa \"si tal cosa\"\n",
        "  print(\"el numero es positivo\")\n",
        "else: #else significa \"sino\"\n",
        "  print(\"El numero es negativo\")\n"
      ],
      "execution_count": 5,
      "outputs": [
        {
          "output_type": "stream",
          "text": [
            "Coloca un numero-2\n",
            "El numero es negativo\n"
          ],
          "name": "stdout"
        }
      ]
    },
    {
      "cell_type": "code",
      "metadata": {
        "id": "fKB8zKc2hHXL",
        "outputId": "c74b8b38-6475-459c-8d57-713c07a698c6",
        "colab": {
          "base_uri": "https://localhost:8080/"
        }
      },
      "source": [
        "numero=int (input(\"Coloca un numero\"))\n",
        "if numero >0: #if significa \"si tal cosa\"\n",
        "  print(\"el numero es positivo\")\n",
        "elif numero==0: #si \"if\" no se cumple sigue la insicación que \"elif\" proporciona\n",
        "  print(\"El numero es cero\")\n",
        "else: #else significa \"sino\"\n",
        "  print(\"El numero es negativo\")\n",
        "print(\"Fin del programa\")"
      ],
      "execution_count": 11,
      "outputs": [
        {
          "output_type": "stream",
          "text": [
            "Coloca un numero-2\n",
            "El numero es negativo\n",
            "Fin del programa\n"
          ],
          "name": "stdout"
        }
      ]
    }
  ]
}