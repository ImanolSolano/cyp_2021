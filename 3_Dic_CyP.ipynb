{
  "nbformat": 4,
  "nbformat_minor": 0,
  "metadata": {
    "colab": {
      "name": "3_Dic_CyP",
      "provenance": [],
      "authorship_tag": "ABX9TyPgf+cwkIRtDWj5zduNgzYJ",
      "include_colab_link": true
    },
    "kernelspec": {
      "name": "python3",
      "display_name": "Python 3"
    }
  },
  "cells": [
    {
      "cell_type": "markdown",
      "metadata": {
        "id": "view-in-github",
        "colab_type": "text"
      },
      "source": [
        "<a href=\"https://colab.research.google.com/github/ImanolSolano/cyp_2021/blob/main/3_Dic_CyP.ipynb\" target=\"_parent\"><img src=\"https://colab.research.google.com/assets/colab-badge.svg\" alt=\"Open In Colab\"/></a>"
      ]
    },
    {
      "cell_type": "code",
      "metadata": {
        "colab": {
          "base_uri": "https://localhost:8080/"
        },
        "id": "W_o2Fatj1-ol",
        "outputId": "09c23720-91f0-462a-8777-dc1e62f529d6"
      },
      "source": [
        "edad=int(input(\"Introduce tu edad:\"))\n",
        "while edad<0:\n",
        "  print(\"Has intoducido una edad negativa, porfavor intentalo de nuevo :)\")\n",
        "  edad=int(input(\"Intrduce tu edad:\"))\n",
        "print(\"Gracias por participar, puedes pasar\")\n",
        "print(\"Edad del aspirante: \"+str(edad))"
      ],
      "execution_count": 3,
      "outputs": [
        {
          "output_type": "stream",
          "text": [
            "Introduce tu edad:-2\n",
            "Has intoducido una edad negativa, porfavor intentalo de nuevo :)\n",
            "Intrduce tu edad:-8\n",
            "Has intoducido una edad negativa, porfavor intentalo de nuevo :)\n",
            "Intrduce tu edad:18\n",
            "Gracias por participar, puedes pasar\n",
            "Edad del aspirante: 18\n"
          ],
          "name": "stdout"
        }
      ]
    },
    {
      "cell_type": "code",
      "metadata": {
        "colab": {
          "base_uri": "https://localhost:8080/"
        },
        "id": "g9Cz8AE83dtJ",
        "outputId": "fa7c3ef4-3c19-4310-d7cb-85234663a978"
      },
      "source": [
        "edad=int(input(\"Introduce tu edad:\"))\n",
        "while edad<10 or edad>110:\n",
        "  print(\"Has intoducido una edad negativa, porfavor intentalo de nuevo :)\")\n",
        "  edad=int(input(\"Intrduce tu edad:\"))\n",
        "print(\"Gracias por participar, puedes pasar\")\n",
        "print(\"Edad del aspirante: \"+ str (edad))"
      ],
      "execution_count": 8,
      "outputs": [
        {
          "output_type": "stream",
          "text": [
            "Introduce tu edad:111\n",
            "Has intoducido una edad negativa, porfavor intentalo de nuevo :)\n",
            "Intrduce tu edad:120\n",
            "Has intoducido una edad negativa, porfavor intentalo de nuevo :)\n",
            "Intrduce tu edad:18\n",
            "Gracias por participar, puedes pasar\n",
            "Edad del aspirante: 18\n"
          ],
          "name": "stdout"
        }
      ]
    },
    {
      "cell_type": "code",
      "metadata": {
        "colab": {
          "base_uri": "https://localhost:8080/"
        },
        "id": "EfVmnIc_4KYg",
        "outputId": "8e4d66ca-bcb9-47e2-9595-5e70f3ad9cd6"
      },
      "source": [
        "#Ejemplo 1\n",
        "\n",
        "for i in [1,2,3,4,5]:\n",
        "  print(f\"El elemento:{i}\")"
      ],
      "execution_count": 9,
      "outputs": [
        {
          "output_type": "stream",
          "text": [
            "El elemento:1\n",
            "El elemento:2\n",
            "El elemento:3\n",
            "El elemento:4\n",
            "El elemento:5\n"
          ],
          "name": "stdout"
        }
      ]
    },
    {
      "cell_type": "code",
      "metadata": {
        "colab": {
          "base_uri": "https://localhost:8080/"
        },
        "id": "0F1ju8yf6rs2",
        "outputId": "edd1e3fd-d583-41cf-d3d5-0c40e02b4d89"
      },
      "source": [
        "coleccion= {\"Alejandro\":20, \"Mariana\":19, \"Yess\":14, \"Lidia\":18} #usando un diccionario\n",
        "for i in coleccion:\n",
        "  print(f\"El elemento:{i}\")#solo imprime las claves"
      ],
      "execution_count": 11,
      "outputs": [
        {
          "output_type": "stream",
          "text": [
            "El elemento:Alejandro\n",
            "El elemento:Mariana\n",
            "El elemento:Yess\n",
            "El elemento:Lidia\n"
          ],
          "name": "stdout"
        }
      ]
    },
    {
      "cell_type": "code",
      "metadata": {
        "colab": {
          "base_uri": "https://localhost:8080/"
        },
        "id": "KU2HS4FB6yQv",
        "outputId": "68a29feb-4f28-41d9-b838-a0b73b8cd36d"
      },
      "source": [
        "coleccion= {\"Alejandro\":20, \"Mariana\":19, \"Yess\":14, \"Lidia\":18} #usando un diccionario\n",
        "for i in coleccion:\n",
        "  print(f\"{coleccion[i]}\")"
      ],
      "execution_count": 12,
      "outputs": [
        {
          "output_type": "stream",
          "text": [
            "20\n",
            "19\n",
            "14\n",
            "18\n"
          ],
          "name": "stdout"
        }
      ]
    },
    {
      "cell_type": "code",
      "metadata": {
        "colab": {
          "base_uri": "https://localhost:8080/"
        },
        "id": "MVCcfDjp60iL",
        "outputId": "dec1526a-33ec-48dd-d564-b03c8be2e9ba"
      },
      "source": [
        "coleccion= {\"Alejandro\":20, \"Mariana\":19, \"Yess\":14, \"Lidia\":18} #usando un diccionario\n",
        "for i in coleccion:\n",
        "  print(f\"{i} ->{coleccion[i]}\")"
      ],
      "execution_count": 13,
      "outputs": [
        {
          "output_type": "stream",
          "text": [
            "Alejandro ->20\n",
            "Mariana ->19\n",
            "Yess ->14\n",
            "Lidia ->18\n"
          ],
          "name": "stdout"
        }
      ]
    },
    {
      "cell_type": "code",
      "metadata": {
        "colab": {
          "base_uri": "https://localhost:8080/"
        },
        "id": "_3nQvh5-63BO",
        "outputId": "0de1d58e-6362-4725-a586-a3d776e7ff57"
      },
      "source": [
        "coleccion= {\"Alejandro\":20, \"Mariana\":19, \"Yess\":14, \"Lidia\":18}\n",
        "for clave, valor in coleccion.items():\n",
        "  print(f\"{clave} -->{valor}\")"
      ],
      "execution_count": 14,
      "outputs": [
        {
          "output_type": "stream",
          "text": [
            "Alejandro -->20\n",
            "Mariana -->19\n",
            "Yess -->14\n",
            "Lidia -->18\n"
          ],
          "name": "stdout"
        }
      ]
    },
    {
      "cell_type": "code",
      "metadata": {
        "colab": {
          "base_uri": "https://localhost:8080/"
        },
        "id": "C9d2zkHW653V",
        "outputId": "9c41116e-902f-41aa-9c5c-322c6f090226"
      },
      "source": [
        "#Ejercicio 2\n",
        "email=False\n",
        "for i in \"arielgarcia@unam.mx\":\n",
        "  if (i==\"@\"):\n",
        "    email=True\n",
        "if email ==True:\n",
        "    print(\"El email es correcto\")\n",
        "else:\n",
        "    print(\"El email no es correcto\")"
      ],
      "execution_count": 15,
      "outputs": [
        {
          "output_type": "stream",
          "text": [
            "El email es correcto\n"
          ],
          "name": "stdout"
        }
      ]
    },
    {
      "cell_type": "code",
      "metadata": {
        "colab": {
          "base_uri": "https://localhost:8080/"
        },
        "id": "tQnFvy-z68mF",
        "outputId": "b357e01a-b39d-44fc-9dbc-f8ab55cc0c33"
      },
      "source": [
        "email=False\n",
        "miEmail=input(\"Escribe tu correo electrónico:\")\n",
        "for i in miEmail:\n",
        "  if (i==\"@\"):\n",
        "    email=True\n",
        "if email ==True:\n",
        "    print(\"El email es correcto\")\n",
        "else:\n",
        "    print(\"El email no es correcto\")"
      ],
      "execution_count": 16,
      "outputs": [
        {
          "output_type": "stream",
          "text": [
            "Escribe tu correo electrónico:EQUIS@hgf.com\n",
            "El email es correcto\n"
          ],
          "name": "stdout"
        }
      ]
    },
    {
      "cell_type": "code",
      "metadata": {
        "colab": {
          "base_uri": "https://localhost:8080/"
        },
        "id": "wzQNj5re7DVJ",
        "outputId": "19f2c0ed-df30-4040-f6ff-bf8a468bc548"
      },
      "source": [
        "#For-Range\n",
        "for i in range(5):\n",
        "  print(\"Hola\")\n",
        "  "
      ],
      "execution_count": 17,
      "outputs": [
        {
          "output_type": "stream",
          "text": [
            "Hola\n",
            "Hola\n",
            "Hola\n",
            "Hola\n",
            "Hola\n"
          ],
          "name": "stdout"
        }
      ]
    }
  ]
}