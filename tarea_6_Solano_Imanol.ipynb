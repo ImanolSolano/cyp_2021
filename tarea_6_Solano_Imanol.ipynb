{
  "nbformat": 4,
  "nbformat_minor": 0,
  "metadata": {
    "colab": {
      "name": "tarea",
      "provenance": [],
      "collapsed_sections": [],
      "authorship_tag": "ABX9TyOYahg6QNDiAI++27oTrf13",
      "include_colab_link": true
    },
    "kernelspec": {
      "display_name": "Python 3",
      "name": "python3"
    }
  },
  "cells": [
    {
      "cell_type": "markdown",
      "metadata": {
        "id": "view-in-github",
        "colab_type": "text"
      },
      "source": [
        "<a href=\"https://colab.research.google.com/github/ImanolSolano/cyp_2021/blob/main/tarea_6_Solano_Imanol.ipynb\" target=\"_parent\"><img src=\"https://colab.research.google.com/assets/colab-badge.svg\" alt=\"Open In Colab\"/></a>"
      ]
    },
    {
      "cell_type": "code",
      "metadata": {
        "colab": {
          "base_uri": "https://localhost:8080/"
        },
        "id": "oTrOduhdaGY-",
        "outputId": "5c6ee853-6419-42f9-b237-96233823386f"
      },
      "source": [
        "#Problema 3.3\r\n",
        "serie=0\r\n",
        "n=float (input(\"Colca un numero: \"))\r\n",
        "band=True\r\n",
        "I=1\r\n",
        "while I <= n:\r\n",
        "  if I <=n:\r\n",
        "    if band==True:\r\n",
        "      serie=serie+1/I\r\n",
        "      band=False\r\n",
        "    else:\r\n",
        "      serie=serie-1/I\r\n",
        "      band=True\r\n",
        "    I=I+1\r\n",
        "    I += 1\r\n",
        "  print(serie)"
      ],
      "execution_count": null,
      "outputs": [
        {
          "output_type": "stream",
          "text": [
            "Colca un numero: 9\n",
            "1.0\n",
            "0.6666666666666667\n",
            "0.8666666666666667\n",
            "0.7238095238095239\n",
            "0.8349206349206351\n"
          ],
          "name": "stdout"
        }
      ]
    },
    {
      "cell_type": "code",
      "metadata": {
        "colab": {
          "base_uri": "https://localhost:8080/",
          "height": 132
        },
        "id": "1i2Ncmv2j2Hl",
        "outputId": "9328769d-9ce6-4192-fcf8-9affbe647e11"
      },
      "source": [
        "#Problema 3.4\r\n",
        "nom=0\r\n",
        "sueldo=float(input(\"Ingresa el sueldo del trabajador: $\")\r\n",
        "while(sueldo != -1):\r\n",
        "  if sueldo < 1000:\r\n",
        "    nsueldo=sue*1.15\r\n",
        "  else::\r\n",
        "    nsueldo=sue*1.12\r\n",
        "  nom=nom+nsue\r\n",
        "  print(\"El nuevo sueldo del trabajador es:\", nsue)\r\n",
        "  sueldo=float(input(\"Ingresa el sueldo del trabajador: $\")\r\n",
        "print(\"La nomina de la empresa es\", nom)"
      ],
      "execution_count": null,
      "outputs": [
        {
          "output_type": "error",
          "ename": "SyntaxError",
          "evalue": "ignored",
          "traceback": [
            "\u001b[0;36m  File \u001b[0;32m\"<ipython-input-34-bcee44302aa6>\"\u001b[0;36m, line \u001b[0;32m4\u001b[0m\n\u001b[0;31m    while (sueldo != -1):\u001b[0m\n\u001b[0m        ^\u001b[0m\n\u001b[0;31mSyntaxError\u001b[0m\u001b[0;31m:\u001b[0m invalid syntax\n"
          ]
        }
      ]
    },
    {
      "cell_type": "code",
      "metadata": {
        "colab": {
          "base_uri": "https://localhost:8080/"
        },
        "id": "9OKrgw9SJ6Up",
        "outputId": "93d25850-75e9-4c44-b3e8-688c373d884c"
      },
      "source": [
        "suma_positivos=0\r\n",
        "suma_negativos=0\r\n",
        "cuepos=0\r\n",
        "n=float(input(\"Ingresa el numero total de datos que deseas calcular: \"))\r\n",
        "I=1\r\n",
        "while (I <= n):\r\n",
        "  num=float(input(\"Ingresa un numero: \"))\r\n",
        "  if num > 0:\r\n",
        "    suma_positivos=suma_positivos+num\r\n",
        "    cuepos=cuepos+1\r\n",
        "  else:\r\n",
        "    suma_negativos=suma_negativos+num\r\n",
        "  I=I+1\r\n",
        "promedio_general=(suma_positivos+suma_negativos)/n\r\n",
        "promedio_positivos=(suma_positivos/cuepos)\r\n",
        "print(\"Los numerospositivos son: \",cuepos)\r\n",
        "print(\"El promedio general de los números positivos son: \",promedio_positivos)\r\n",
        "print(\"El promedio general de los numeros es: \",promedio_general)"
      ],
      "execution_count": 1,
      "outputs": [
        {
          "output_type": "stream",
          "text": [
            "Ingresa el numero total de datos que deseas calcular: 20\n",
            "Ingresa un numero: 7\n",
            "Ingresa un numero: 12\n",
            "Ingresa un numero: 0\n",
            "Ingresa un numero: 6\n",
            "Ingresa un numero: 11\n",
            "Ingresa un numero: -3\n",
            "Ingresa un numero: 17\n",
            "Ingresa un numero: 12\n",
            "Ingresa un numero: 19\n",
            "Ingresa un numero: 0\n",
            "Ingresa un numero: 11\n",
            "Ingresa un numero: 4\n",
            "Ingresa un numero: -5\n",
            "Ingresa un numero: -1\n",
            "Ingresa un numero: 0\n",
            "Ingresa un numero: 3\n",
            "Ingresa un numero: 24\n",
            "Ingresa un numero: 0\n",
            "Ingresa un numero: 3\n",
            "Ingresa un numero: -16\n",
            "Los numerospositivos son:  12\n",
            "El promedio general de los números positivos son:  10.75\n",
            "El promedio general de los numeros es:  5.2\n"
          ],
          "name": "stdout"
        }
      ]
    },
    {
      "cell_type": "code",
      "metadata": {
        "colab": {
          "base_uri": "https://localhost:8080/"
        },
        "id": "W75w3JBiOLz2",
        "outputId": "4c2e3580-9d92-422e-9911-082a90c505d9"
      },
      "source": [
        "#Problema 3.6\r\n",
        "mayor=-100000\r\n",
        "menor=100000\r\n",
        "n=float(input(\"Coloca el número de datos totales a analizar: \"))\r\n",
        "I=1\r\n",
        "while (I <= n):\r\n",
        "  num=float(input(\"Ingresa los datos: \"))\r\n",
        "  if num > mayor:\r\n",
        "    mayr=num\r\n",
        "  if num < menor:\r\n",
        "    menor= num\r\n",
        "  I=I+1\r\n",
        "print(\"El númenor mayor es: \",mayor)\r\n",
        "print(\"El número menor es: \",menor)"
      ],
      "execution_count": 6,
      "outputs": [
        {
          "output_type": "stream",
          "text": [
            "Coloca el número de datos totales a analizar: 12\n",
            "Ingresa los datos: 170\n",
            "Ingresa los datos: 44\n",
            "Ingresa los datos: 815\n",
            "Ingresa los datos: 1700\n",
            "Ingresa los datos: 38\n",
            "Ingresa los datos: 140\n",
            "Ingresa los datos: 380\n",
            "Ingresa los datos: 1020\n",
            "Ingresa los datos: 116\n",
            "Ingresa los datos: 14\n",
            "Ingresa los datos: 730\n",
            "Ingresa los datos: 960\n",
            "El númenor mayor es:  -100000\n",
            "El número menor es:  14.0\n"
          ],
          "name": "stdout"
        }
      ]
    },
    {
      "cell_type": "code",
      "metadata": {
        "colab": {
          "base_uri": "https://localhost:8080/"
        },
        "id": "pO63XKl8RCD6",
        "outputId": "2d956fc6-f831-4f5e-87f3-b71abd720526"
      },
      "source": [
        "menores=0\r\n",
        "medianas=0\r\n",
        "mayores=0\r\n",
        "n=float(input(\"Ingresa el numero de ventaas totales: \"))\r\n",
        "I=1\r\n",
        "while (I <= n):\r\n",
        "  venta=float(input(\"Ingresa el montode la venta: \"))\r\n",
        "  if venta <= 200:\r\n",
        "    menores=menores+1\r\n",
        "  else:\r\n",
        "    if venta < 400:\r\n",
        "      medianas=medianas+1\r\n",
        "    else:mayores=mayores+1\r\n",
        "  I=I+1\r\n",
        "print(\"El número de ventas menores a $200 es: \",menores)\r\n",
        "print(\"El número de ventas mayores a $200 pero menores a $400 es: \",medianas)\r\n",
        "print(\"El número de ventas mayores a $400 es: \",mayores)"
      ],
      "execution_count": 7,
      "outputs": [
        {
          "output_type": "stream",
          "text": [
            "Ingresa el numero de ventaas totales: 12\n",
            "Ingresa el montode la venta: 180.25\n",
            "Ingresa el montode la venta: 470.30\n",
            "Ingresa el montode la venta: 150.25\n",
            "Ingresa el montode la venta: 88.60\n",
            "Ingresa el montode la venta: 230.15\n",
            "Ingresa el montode la venta: 170.20\n",
            "Ingresa el montode la venta: 40.30\n",
            "Ingresa el montode la venta: 201.90\n",
            "Ingresa el montode la venta: 60.32\n",
            "Ingresa el montode la venta: 280.30\n",
            "Ingresa el montode la venta: 15.70\n",
            "Ingresa el montode la venta: 140.20\n",
            "El número de ventas menores a $200 es:  8\n",
            "El número de ventas mayores a $200 pero menores a $400 es:  3\n",
            "El número de ventas mayores a $400 es:  1\n"
          ],
          "name": "stdout"
        }
      ]
    },
    {
      "cell_type": "code",
      "metadata": {
        "id": "98M1MN7ET31g"
      },
      "source": [
        "#problema 3.8\r\n",
        "num=(int(input(\"Coloca el número inicial: \")))\r\n",
        "if num > 0:\r\n",
        "  while num !=1:\r\n",
        "    print(num)\r\n",
        "    i = 1\r\n",
        "    if (-1**num)>0:\r\n",
        "      num= num/2\r\n",
        "    else:\r\n",
        "      num=num*3+1\r\n",
        "  print(num)\r\n",
        "else:\r\n",
        "  print(\"El número tiene que ser positivo :)\")"
      ],
      "execution_count": null,
      "outputs": []
    },
    {
      "cell_type": "code",
      "metadata": {
        "colab": {
          "base_uri": "https://localhost:8080/"
        },
        "id": "AQOIwBdheG2h",
        "outputId": "15b7a9ef-da3f-409b-ea9d-49ff05c584d7"
      },
      "source": [
        "#problema 3.9\r\n",
        "serie=0\r\n",
        "n=float(input(\"Ingresa el número: \"))\r\n",
        "I=1\r\n",
        "while I <= n:\r\n",
        "  serie=serie+I**I\r\n",
        "  I=I+1\r\n",
        "else:\r\n",
        "  print(\"El fin de la serie es: \",serie)"
      ],
      "execution_count": 6,
      "outputs": [
        {
          "output_type": "stream",
          "text": [
            "Ingresa el número: 8\n",
            "El fin de la serie es:  17650828\n"
          ],
          "name": "stdout"
        }
      ]
    },
    {
      "cell_type": "code",
      "metadata": {
        "colab": {
          "base_uri": "https://localhost:8080/"
        },
        "id": "uvAwJDOEo6GK",
        "outputId": "02ada4fb-7d34-4f88-e090-f1e3158295c0"
      },
      "source": [
        "#Problema 3.10\r\n",
        "primero=0\r\n",
        "segundo=1\r\n",
        "I=3\r\n",
        "while I <= 180:\r\n",
        "  siguiente=primero+segundo\r\n",
        "  primero=segundo\r\n",
        "  segundo=siguiente\r\n",
        "  I=I+1\r\n",
        "else:\r\n",
        "  print(siguiente)"
      ],
      "execution_count": 8,
      "outputs": [
        {
          "output_type": "stream",
          "text": [
            "11463113765491467695340528626429782121\n"
          ],
          "name": "stdout"
        }
      ]
    },
    {
      "cell_type": "code",
      "metadata": {
        "colab": {
          "base_uri": "https://localhost:8080/"
        },
        "id": "XWDIo-7Ep-i2",
        "outputId": "6491e633-58ca-4604-a000-501ca25b32b9"
      },
      "source": [
        "#Problema 3.11\r\n",
        "candidato1=0\r\n",
        "candidato2=0\r\n",
        "candidato3=0\r\n",
        "candidato4=0\r\n",
        "voto=int(input(\"Ingresa el voto por el candidato de tu elección: \"))\r\n",
        "while voto !=0:\r\n",
        "  if voto==1:\r\n",
        "    candidato1=candidato1+1\r\n",
        "  else:\r\n",
        "    if voto==2:\r\n",
        "      candidato2=candidato2+1\r\n",
        "    else:\r\n",
        "      if voto==3:\r\n",
        "        candidato3=candidato3+1\r\n",
        "      else:\r\n",
        "        if voto==4:\r\n",
        "          candidato4=candidato4+1\r\n",
        "  voto=int(input(\"Ingresa el voto por el candidato de tu elección: \"))\r\n",
        "else:\r\n",
        "  sumaVotos=candidato1+candidato2+candidato3+candidato4\r\n",
        "  porcentaje1=(candidato1/sumaVotos)*100\r\n",
        "  porcentaje2=(candidato2/sumaVotos)*100\r\n",
        "  porcentaje3=(candidato3/sumaVotos)*100\r\n",
        "  porcentaje4=(candidato4/sumaVotos)*100\r\n",
        "print(\"El candidato #1 tuvo un total de \",candidato1,\"votos y un porcentaje de: \",porcentaje1)\r\n",
        "print(\"El candidato #2 tuvo un total de \",candidato2,\"votos y un porcentaje de: \",porcentaje2)\r\n",
        "print(\"El candidato #3 tuvo un total de \",candidato3,\"votos y un porcentaje de: \",porcentaje3)\r\n",
        "print(\"El candidato #4 tuvo un total de \",candidato4,\"votos y un porcentaje de: \",porcentaje4)\r\n",
        "print(\"hubo un total de \",sumaVotos,\" votos\")"
      ],
      "execution_count": 17,
      "outputs": [
        {
          "output_type": "stream",
          "text": [
            "Ingresa el voto por el candidato de tu elección: 1\n",
            "Ingresa el voto por el candidato de tu elección: 1\n",
            "Ingresa el voto por el candidato de tu elección: 2\n",
            "Ingresa el voto por el candidato de tu elección: 1\n",
            "Ingresa el voto por el candidato de tu elección: 3\n",
            "Ingresa el voto por el candidato de tu elección: 1\n",
            "Ingresa el voto por el candidato de tu elección: 1\n",
            "Ingresa el voto por el candidato de tu elección: 2\n",
            "Ingresa el voto por el candidato de tu elección: 4\n",
            "Ingresa el voto por el candidato de tu elección: 4\n",
            "Ingresa el voto por el candidato de tu elección: 3\n",
            "Ingresa el voto por el candidato de tu elección: 1\n",
            "Ingresa el voto por el candidato de tu elección: 1\n",
            "Ingresa el voto por el candidato de tu elección: 2\n",
            "Ingresa el voto por el candidato de tu elección: 3\n",
            "Ingresa el voto por el candidato de tu elección: 1\n",
            "Ingresa el voto por el candidato de tu elección: 4\n",
            "Ingresa el voto por el candidato de tu elección: 1\n",
            "Ingresa el voto por el candidato de tu elección: 2\n",
            "Ingresa el voto por el candidato de tu elección: 1\n",
            "Ingresa el voto por el candidato de tu elección: 2\n",
            "Ingresa el voto por el candidato de tu elección: 4\n",
            "Ingresa el voto por el candidato de tu elección: 4\n",
            "Ingresa el voto por el candidato de tu elección: 2\n",
            "Ingresa el voto por el candidato de tu elección: 1\n",
            "Ingresa el voto por el candidato de tu elección: 0\n",
            "El candidato #1 tuvo un total de  11 votos y un porcentaje de:  44.0\n",
            "El candidato #2 tuvo un total de  6 votos y un porcentaje de:  24.0\n",
            "El candidato #3 tuvo un total de  3 votos y un porcentaje de:  12.0\n",
            "El candidato #4 tuvo un total de  5 votos y un porcentaje de:  20.0\n",
            "hubo un total de  25  votos\n"
          ],
          "name": "stdout"
        }
      ]
    },
    {
      "cell_type": "code",
      "metadata": {
        "id": "BWt58VvovFo9"
      },
      "source": [
        "#problema 3.12\r\n",
        "mayorSueldo=0\r\n",
        "n=float(input(\"Ingresa el número de empleados totales en la empresa: \"))\r\n",
        "I=1\r\n",
        "while I <= n:\r\n",
        "  numero_empleado=int(input(\"Ingresa tu número de empleado: \"))\r\n",
        "  sueldo=float(input(\"Ingresa el sueldo del empleado \"))\r\n",
        "  if sueldo>mayorSueldo:\r\n",
        "    mayorSueldo=sueldo\r\n",
        "    manum=numero_empleado\r\n",
        "  else:\r\n",
        "    I=I+1\r\n",
        "else:\r\n",
        "  print(\"El número del trabajador con mayor sueldo es: \",manum, \"con un sueldo mayor de: \",mayor_sueldo)\r\n"
      ],
      "execution_count": null,
      "outputs": []
    },
    {
      "cell_type": "code",
      "metadata": {
        "colab": {
          "base_uri": "https://localhost:8080/"
        },
        "id": "tU1p1I-ayrC2",
        "outputId": "f590f622-e7bf-4fb1-da7d-bd5df8f8983f"
      },
      "source": [
        "#problems 3.13\r\n",
        "region_norte=0\r\n",
        "region_centro=0\r\n",
        "region_sur=0\r\n",
        "lluvias_norte=0\r\n",
        "lluvias_sur=0\r\n",
        "lluvias_centro=0\r\n",
        "mersu=500000\r\n",
        "I=1\r\n",
        "while I <= 12:\r\n",
        "  region_norte=float(input(\"Indica la lluvia en la región norte: \"))\r\n",
        "  region_centro=float(input(\"Indica la lluvia en la región centro: \"))\r\n",
        "  region_sur=float(input(\"Indica la lluvia en la región sur: \"))\r\n",
        "  lluvias_norte=lluvias_norte+region_norte\r\n",
        "  lluvias_centro=lluvias_centro+region_centro\r\n",
        "  lluvias_sur=lluvias_sur+region_sur\r\n",
        "  if region_sur < mersu:\r\n",
        "    mersu=region_sur\r\n",
        "    mes=I\r\n",
        "    I=I+1\r\n",
        "  else:\r\n",
        "    I=I+1\r\n",
        "else:\r\n",
        "  prorce=lluvias_centro/12\r\n",
        "  print(\"El promedio de lluvias en la región centro es de: \",prorce)\r\n",
        "  print(\"El mes con menor lluvias en la región sur es: \",mes)\r\n",
        "  print(\"En la región sur el registro del es es: \",lluvias_sur)\r\n",
        "if lluvias_norte > lluvias_centro:\r\n",
        "  if lluvias_norte > lluvias_sur:\r\n",
        "    print(\"La región con mas mayor lluvia es la región norte. :)\")\r\n",
        "  else:\r\n",
        "    print(\"La región con mayor lluvias es la región sur. :)\")\r\n",
        "else:\r\n",
        "  if lluvias_centro > lluvias_sur:\r\n",
        "    print(\"La región con mayor lluvia es la región centro. :)\")\r\n",
        "  else:\r\n",
        "    print(\"La región con mayor lluvia es la región sur. :)\")\r\n",
        "    \r\n"
      ],
      "execution_count": 5,
      "outputs": [
        {
          "output_type": "stream",
          "text": [
            "Indica la lluvia en la región norte: 80\n",
            "Indica la lluvia en la región centro: 70\n",
            "Indica la lluvia en la región sur: 170\n",
            "Indica la lluvia en la región norte: 60\n",
            "Indica la lluvia en la región centro: 85\n",
            "Indica la lluvia en la región sur: 100\n",
            "Indica la lluvia en la región norte: 120\n",
            "Indica la lluvia en la región centro: 100\n",
            "Indica la lluvia en la región sur: 185\n",
            "Indica la lluvia en la región norte: 260\n",
            "Indica la lluvia en la región centro: 100\n",
            "Indica la lluvia en la región sur: 90\n",
            "Indica la lluvia en la región norte: 88\n",
            "Indica la lluvia en la región centro: 70\n",
            "Indica la lluvia en la región sur: 82\n",
            "Indica la lluvia en la región norte: 80\n",
            "Indica la lluvia en la región centro: 150\n",
            "Indica la lluvia en la región sur: 130\n",
            "Indica la lluvia en la región norte: 122\n",
            "Indica la lluvia en la región centro: 100\n",
            "Indica la lluvia en la región sur: 95\n",
            "Indica la lluvia en la región norte: 67\n",
            "Indica la lluvia en la región centro: 47\n",
            "Indica la lluvia en la región sur: 38\n",
            "Indica la lluvia en la región norte: 55\n",
            "Indica la lluvia en la región centro: 95\n",
            "Indica la lluvia en la región sur: 115\n",
            "Indica la lluvia en la región norte: 110\n",
            "Indica la lluvia en la región centro: 70\n",
            "Indica la lluvia en la región sur: 62\n",
            "Indica la lluvia en la región norte: 83\n",
            "Indica la lluvia en la región centro: 100\n",
            "Indica la lluvia en la región sur: 87\n",
            "Indica la lluvia en la región norte: 107\n",
            "Indica la lluvia en la región centro: 130\n",
            "Indica la lluvia en la región sur: 103\n",
            "El promedio de lluvias en la región centro es de:  93.08333333333333\n",
            "El mes con menor lluvias en la región sur es:  8\n",
            "En la región sur el registro del es es:  1257.0\n",
            "La región con mayor lluvias es la región sur. :)\n"
          ],
          "name": "stdout"
        }
      ]
    },
    {
      "cell_type": "code",
      "metadata": {
        "id": "MHWhUFARdHqi"
      },
      "source": [
        "#Problema 3.14\r\n",
        "total_boletos1=0\r\n",
        "total_boletos2=0\r\n",
        "total_boletos3=0\r\n",
        "total_boletos4=0\r\n",
        "total_boletos5=0\r\n",
        "recaudacion=0\r\n",
        "\r\n",
        "p1=float(input(\"Coloca el precio de los boletos de la sección 1: $\"))\r\n",
        "p2=float(input(\"Coloca el precio de los boletos de la sección 2: $\"))\r\n",
        "p3=float(input(\"Coloca el precio de los boletos de la sección 3: $\"))\r\n",
        "p4=float(input(\"Coloca el precio de los boletos de la sección 4: $\"))\r\n",
        "p5=float(input(\"Coloca el precio de los boletos de la sección 5: $\"))\r\n",
        "clave=input(\"Ingresa la clave: \")\r\n",
        "cantidad=input(\"Ingresa la cantidad de boletos: \")\r\n",
        "\r\n",
        "while (clave and cantidad != -1):\r\n",
        "  if clave==1:\r\n",
        "    pre= p1 * cantidad\r\n",
        "    total_boletos1=total_boletos1+cantidad\r\n",
        "  else:\r\n",
        "    if clave ==2:\r\n",
        "      pre= p2 * cantidad\r\n",
        "      total_boletos2=total_boletos2+cantidad\r\n",
        "    else:\r\n",
        "      if clave==3:\r\n",
        "        pre= p3 * cantidad\r\n",
        "        total_boletos3=total_boletos3+cantidad\r\n",
        "      else:\r\n",
        "        if clave==4:\r\n",
        "          pre= p4 * cantidad\r\n",
        "          total_boletos4=total_boletos4+cantidad\r\n",
        "        else:\r\n",
        "          if clave==5:\r\n",
        "            pre= p5 * cantidad\r\n",
        "            total_boletos5=total_boletos5+cantidad\r\n",
        "  print(\"La clave es: \",clave)\r\n",
        "  print(\"La cantidad de boletos es: \",cantidad)\r\n",
        "  print(\"El pre-monto a pagar es de: $\",pre)\r\n",
        "  recaudacion=recaudacion+pre\r\n",
        "  clave=input(\"Ingresa la clave: \")\r\n",
        "  cantidad=input(\"Ingresa la cantidad de boletos: \")\r\n",
        "else:\r\n",
        "  print(\"La cantidad de boletos vendidos del tipo 1 es de: \",total_boletos1)\r\n",
        "  print(\"La cantidad de boletos vendidos del tipo 2 es de: \",total_boletos2)\r\n",
        "  print(\"La cantidad de boletos vendidos del tipo 3 es de: \",total_boletos3)\r\n",
        "  print(\"La cantidad de boletos vendidos del tipo 4 es de: \",total_boletos4)\r\n",
        "  print(\"La cantidad de boletos vendidos del tipo 5 es de: \",total_boletos5)\r\n",
        "  print(\"La recaudación total del estado fue de: $\",recaudacion)"
      ],
      "execution_count": null,
      "outputs": []
    },
    {
      "cell_type": "code",
      "metadata": {
        "colab": {
          "base_uri": "https://localhost:8080/"
        },
        "id": "qqQJz_SmlzwN",
        "outputId": "b3403162-968b-450a-915a-66076d2af390"
      },
      "source": [
        "#problema 3.15\r\n",
        "cl=0\r\n",
        "cuenta=0\r\n",
        "costo=0\r\n",
        "tipo=(input(\"Ingresa el tipo de llamada: \"))\r\n",
        "duracion=float(input(\"Ingresa la duración de la llamada: \"))\r\n",
        "while (tipo !=\"x\") and (duracion != -1):\r\n",
        "  if tipo == I:\r\n",
        "    if duracion > 3:\r\n",
        "      costo=7.59+(duracion-3)*3.03\r\n",
        "    else:\r\n",
        "      costo=7.59\r\n",
        "      if tipo == L:\r\n",
        "        cl=cl+1\r\n",
        "        if cl > 50:\r\n",
        "          costo=.60\r\n",
        "        else:\r\n",
        "          costo=0\r\n",
        "      else: \r\n",
        "        if tipo==N:\r\n",
        "          if duracion > 3:\r\n",
        "            costo=1.20+(duracion-3)*0.48\r\n",
        "          else:\r\n",
        "            costo=1.20\r\n",
        "  else:\r\n",
        "    cuenta=cuenta+costo\r\n",
        "    tipo=(input(\"Ingresa el tipo de llamada: \"))\r\n",
        "    duracion=float(input(\"Ingresa la duración de la llamada: \"))\r\n",
        "else:\r\n",
        "  print(\"Su saldo a pagar es de: $\",cuenta)"
      ],
      "execution_count": 24,
      "outputs": [
        {
          "output_type": "stream",
          "text": [
            "Ingresa el tipo de llamada: I\n",
            "Ingresa la duración de la llamada: 7\n",
            "Ingresa el tipo de llamada: N\n",
            "Ingresa la duración de la llamada: 6\n",
            "Ingresa el tipo de llamada: N\n",
            "Ingresa la duración de la llamada: 12\n",
            "Ingresa el tipo de llamada: L\n",
            "Ingresa la duración de la llamada: 5\n",
            "Ingresa el tipo de llamada: L\n",
            "Ingresa la duración de la llamada: 7\n",
            "Ingresa el tipo de llamada: L\n",
            "Ingresa la duración de la llamada: 15\n",
            "Ingresa el tipo de llamada: N\n",
            "Ingresa la duración de la llamada: 16\n",
            "Ingresa el tipo de llamada: L\n",
            "Ingresa la duración de la llamada: 7\n",
            "Ingresa el tipo de llamada: L\n",
            "Ingresa la duración de la llamada: 6\n",
            "Ingresa el tipo de llamada: L\n",
            "Ingresa la duración de la llamada: 4\n",
            "Ingresa el tipo de llamada: I\n",
            "Ingresa la duración de la llamada: 11\n",
            "Ingresa el tipo de llamada: x\n",
            "Ingresa la duración de la llamada: -1\n",
            "Su saldo a pagar es de: $ 0\n"
          ],
          "name": "stdout"
        }
      ]
    },
    {
      "cell_type": "code",
      "metadata": {
        "colab": {
          "base_uri": "https://localhost:8080/",
          "height": 244
        },
        "id": "ZJYCwZvXrYae",
        "outputId": "08e66dbc-6c00-470a-fff7-6c1ac450636c"
      },
      "source": [
        "#problema 3.16\r\n",
        "tipo1=0\r\n",
        "tipo2=0\r\n",
        "tipo3=0\r\n",
        "tipo4=0\r\n",
        "tipo5=0\r\n",
        "mctipo2=0\r\n",
        "n=input(\"Ingresa el total de años a evluar: \")\r\n",
        "I=1\r\n",
        "while (I <= n):\r\n",
        "  J=1\r\n",
        "  totvin=0\r\n",
        "  while J <= 5:\r\n",
        "    v=input(\"Ingresa el total de vino vendido en el año: \")\r\n",
        "    totvin=totvin+v\r\n",
        "    if J==1:\r\n",
        "      tipo1=tipo1+v\r\n",
        "    else:\r\n",
        "      if j==2:\r\n",
        "        tipo2=tipo2+v\r\n",
        "        if v > mctipo2:\r\n",
        "          mctipo2=v\r\n",
        "          año=I\r\n",
        "      else:\r\n",
        "        if J==3:\r\n",
        "          tipo3=tipo3+v\r\n",
        "          if v==0:\r\n",
        "            print(\"El año \",I,\"no se produjo vino tipo 3\")\r\n",
        "        else:\r\n",
        "          if J==4:\r\n",
        "            tipo4=tipo4+v\r\n",
        "          else:\r\n",
        "            if J==5:\r\n",
        "              tipo5=tipo5+v\r\n",
        "    J=J+1\r\n",
        "  else:\r\n",
        "    print(\"El total de litros producidos por eño fue de: \",totvin)\r\n",
        "    I=I+1\r\n",
        "\r\n",
        "else: \r\n",
        "  print(\"El total de vino del tipo 1 es: \",tipo1)\r\n",
        "  print(\"El total de vino del tipo 2 es: \",tipo2)\r\n",
        "  print(\"El total de vino del tipo 3 es: \",tipo3)\r\n",
        "  print(\"El total de vino del tipo 4 es: \",tipo4)\r\n",
        "  print(\"El total de vino del tipo 5 es: \",tipo5)\r\n",
        "  print(\"El año en el que se produjo mas cantidad de vino tinto tipo 2, fue en: \",año, \"con un total de \",mctipo2,\" litros\")"
      ],
      "execution_count": 20,
      "outputs": [
        {
          "output_type": "stream",
          "text": [
            "Ingresa el total de años a evluar: 5\n"
          ],
          "name": "stdout"
        },
        {
          "output_type": "error",
          "ename": "TypeError",
          "evalue": "ignored",
          "traceback": [
            "\u001b[0;31m---------------------------------------------------------------------------\u001b[0m",
            "\u001b[0;31mTypeError\u001b[0m                                 Traceback (most recent call last)",
            "\u001b[0;32m<ipython-input-20-a71d2de0a958>\u001b[0m in \u001b[0;36m<module>\u001b[0;34m()\u001b[0m\n\u001b[1;32m      8\u001b[0m \u001b[0mn\u001b[0m\u001b[0;34m=\u001b[0m\u001b[0minput\u001b[0m\u001b[0;34m(\u001b[0m\u001b[0;34m\"Ingresa el total de años a evluar: \"\u001b[0m\u001b[0;34m)\u001b[0m\u001b[0;34m\u001b[0m\u001b[0;34m\u001b[0m\u001b[0m\n\u001b[1;32m      9\u001b[0m \u001b[0mI\u001b[0m\u001b[0;34m=\u001b[0m\u001b[0;36m1\u001b[0m\u001b[0;34m\u001b[0m\u001b[0;34m\u001b[0m\u001b[0m\n\u001b[0;32m---> 10\u001b[0;31m \u001b[0;32mwhile\u001b[0m \u001b[0;34m(\u001b[0m\u001b[0mI\u001b[0m \u001b[0;34m<=\u001b[0m \u001b[0mn\u001b[0m\u001b[0;34m)\u001b[0m\u001b[0;34m:\u001b[0m\u001b[0;34m\u001b[0m\u001b[0;34m\u001b[0m\u001b[0m\n\u001b[0m\u001b[1;32m     11\u001b[0m   \u001b[0mJ\u001b[0m\u001b[0;34m=\u001b[0m\u001b[0;36m1\u001b[0m\u001b[0;34m\u001b[0m\u001b[0;34m\u001b[0m\u001b[0m\n\u001b[1;32m     12\u001b[0m   \u001b[0mtotvin\u001b[0m\u001b[0;34m=\u001b[0m\u001b[0;36m0\u001b[0m\u001b[0;34m\u001b[0m\u001b[0;34m\u001b[0m\u001b[0m\n",
            "\u001b[0;31mTypeError\u001b[0m: '<=' not supported between instances of 'int' and 'str'"
          ]
        }
      ]
    },
    {
      "cell_type": "code",
      "metadata": {
        "colab": {
          "base_uri": "https://localhost:8080/"
        },
        "id": "vTA692wtuXPX",
        "outputId": "1d7240f2-7723-40ba-b600-912a74593ab9"
      },
      "source": [
        "#Problema 3.17\r\n",
        "I=3\r\n",
        "sp=0\r\n",
        "m=float(input(\"Ingresa el número deseado: \"))\r\n",
        "if m >= 1:\r\n",
        "  sp=sp+1\r\n",
        "  print(\"El numero primo es: \",1)\r\n",
        "  \r\n",
        "  if m >= 2:\r\n",
        "    sp=sp+1\r\n",
        "    print(\"El número primo es: \",2)\r\n",
        "    \r\n",
        "while I <= m:\r\n",
        "  band=\"V\"\r\n",
        "  J=3\r\n",
        "  while J<(I/2) and band==\"V\":\r\n",
        "    if (I % J)==0:\r\n",
        "      band=\"F\"\r\n",
        "    else:\r\n",
        "      J=J+2\r\n",
        "  else:\r\n",
        "    if band==\"V\":\r\n",
        "      print(\"El número primo es: \",I)\r\n",
        "      sp=sp+1\r\n",
        "    else:\r\n",
        "      I=I+2\r\n",
        "else:\r\n",
        "  print(\"Entre 1 y \",m,\" hay: \",sp,\" números primos\")\r\n"
      ],
      "execution_count": 29,
      "outputs": [
        {
          "output_type": "stream",
          "text": [
            "Ingresa el número deseado: 2\n",
            "El numero primo es:  1\n",
            "El número primo es:  2\n",
            "Entre 1 y  2.0  hay:  2  números primos\n"
          ],
          "name": "stdout"
        }
      ]
    },
    {
      "cell_type": "code",
      "metadata": {
        "colab": {
          "base_uri": "https://localhost:8080/",
          "height": 244
        },
        "id": "7OYaJ8SxPN1B",
        "outputId": "2c807064-6015-456a-d0f3-87eb7cf97198"
      },
      "source": [
        "#Problema 3.18\r\n",
        "maypro=0\r\n",
        "n=input(\"Ingresa el número de empresas totales: \")\r\n",
        "if int(n <= 1000):\r\n",
        "  I=1\r\n",
        "  while (I <= n):\r\n",
        "    fabrica=float(input(\"Ingresa la clave de la fábrica: \"))\r\n",
        "    totanu=0\r\n",
        "    J=1\r\n",
        "    while (J <= 12):\r\n",
        "      mes=input(\"Ingresa la producción dada en ese mes: \")\r\n",
        "      totanu=totanu+mes\r\n",
        "      if (J==7) and (mes>3000000):\r\n",
        "        print(fabrica)\r\n",
        "      else:\r\n",
        "        J=J+1\r\n",
        "    else:\r\n",
        "      if totanu>maypro:\r\n",
        "        maypro=totanu\r\n",
        "        clave=fabrica\r\n",
        "      print(\"La producción anual de \",fabrica,\" es de: $: \",maypro )\r\n",
        "  else:\r\n",
        "    print(\"La fabrica que mas produjo en el año fue: \",clave,\" con una prducción de: $ \",maypro)\r\n",
        "else:\r\n",
        "  print(\"Error en numero de fabricas\")\r\n"
      ],
      "execution_count": 23,
      "outputs": [
        {
          "output_type": "stream",
          "text": [
            "Ingresa el número de empresas totales: 15\n"
          ],
          "name": "stdout"
        },
        {
          "output_type": "error",
          "ename": "TypeError",
          "evalue": "ignored",
          "traceback": [
            "\u001b[0;31m---------------------------------------------------------------------------\u001b[0m",
            "\u001b[0;31mTypeError\u001b[0m                                 Traceback (most recent call last)",
            "\u001b[0;32m<ipython-input-23-23cfe9cb2c00>\u001b[0m in \u001b[0;36m<module>\u001b[0;34m()\u001b[0m\n\u001b[1;32m      2\u001b[0m \u001b[0mmaypro\u001b[0m\u001b[0;34m=\u001b[0m\u001b[0;36m0\u001b[0m\u001b[0;34m\u001b[0m\u001b[0;34m\u001b[0m\u001b[0m\n\u001b[1;32m      3\u001b[0m \u001b[0mn\u001b[0m\u001b[0;34m=\u001b[0m\u001b[0minput\u001b[0m\u001b[0;34m(\u001b[0m\u001b[0;34m\"Ingresa el número de empresas totales: \"\u001b[0m\u001b[0;34m)\u001b[0m\u001b[0;34m\u001b[0m\u001b[0;34m\u001b[0m\u001b[0m\n\u001b[0;32m----> 4\u001b[0;31m \u001b[0;32mif\u001b[0m \u001b[0mint\u001b[0m\u001b[0;34m(\u001b[0m\u001b[0minput\u001b[0m\u001b[0;34m(\u001b[0m\u001b[0mn\u001b[0m \u001b[0;34m<=\u001b[0m \u001b[0;36m1000\u001b[0m\u001b[0;34m)\u001b[0m\u001b[0;34m)\u001b[0m\u001b[0;34m:\u001b[0m\u001b[0;34m\u001b[0m\u001b[0;34m\u001b[0m\u001b[0m\n\u001b[0m\u001b[1;32m      5\u001b[0m   \u001b[0mI\u001b[0m\u001b[0;34m=\u001b[0m\u001b[0;36m1\u001b[0m\u001b[0;34m\u001b[0m\u001b[0;34m\u001b[0m\u001b[0m\n\u001b[1;32m      6\u001b[0m   \u001b[0;32mwhile\u001b[0m \u001b[0;34m(\u001b[0m\u001b[0mI\u001b[0m \u001b[0;34m<=\u001b[0m \u001b[0mn\u001b[0m\u001b[0;34m)\u001b[0m\u001b[0;34m:\u001b[0m\u001b[0;34m\u001b[0m\u001b[0;34m\u001b[0m\u001b[0m\n",
            "\u001b[0;31mTypeError\u001b[0m: '<=' not supported between instances of 'str' and 'int'"
          ]
        }
      ]
    },
    {
      "cell_type": "code",
      "metadata": {
        "id": "0_pTq4h5Sk38"
      },
      "source": [
        "#Problems 3.19\r\n",
        "n=int(input(\"Ingresa el número limite de los datos a evaluar: \"))\r\n",
        "I=1\r\n",
        "while I <= n:\r\n",
        "  sum=0\r\n",
        "  J=1\r\n",
        "  while J <= (I/2):\r\n",
        "    if (I % J)==0:\r\n",
        "      sum=sum+J\r\n",
        "    else:\r\n",
        "      J=J+1\r\n",
        "  else:\r\n",
        "    if sum==1:\r\n",
        "      print(I,\"Es un número perfecto :)\")\r\n",
        "    else:\r\n",
        "      I=I+1"
      ],
      "execution_count": null,
      "outputs": []
    },
    {
      "cell_type": "code",
      "metadata": {
        "id": "MDkJtglcWXvY"
      },
      "source": [
        ""
      ],
      "execution_count": null,
      "outputs": []
    }
  ]
}