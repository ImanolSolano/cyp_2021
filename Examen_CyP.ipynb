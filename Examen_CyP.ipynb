{
  "nbformat": 4,
  "nbformat_minor": 0,
  "metadata": {
    "colab": {
      "name": "Examen_CyP",
      "provenance": [],
      "authorship_tag": "ABX9TyOU+Qe9/tnQKFXLYYsY4OjQ",
      "include_colab_link": true
    },
    "kernelspec": {
      "name": "python3",
      "display_name": "Python 3"
    }
  },
  "cells": [
    {
      "cell_type": "markdown",
      "metadata": {
        "id": "view-in-github",
        "colab_type": "text"
      },
      "source": [
        "<a href=\"https://colab.research.google.com/github/ImanolSolano/cyp_2021/blob/main/Examen_CyP.ipynb\" target=\"_parent\"><img src=\"https://colab.research.google.com/assets/colab-badge.svg\" alt=\"Open In Colab\"/></a>"
      ]
    },
    {
      "cell_type": "code",
      "metadata": {
        "colab": {
          "base_uri": "https://localhost:8080/"
        },
        "id": "UgBN_NzVDjUn",
        "outputId": "9c7c654d-33cc-4614-e356-357f32d232ad"
      },
      "source": [
        "cal=float(input(\"Ingresa la calificación del alumno: \"))\r\n",
        "if cal < 8:\r\n",
        "  print(\"Reprobado :)\")\r\n",
        "else: \r\n",
        "  if cal >= 8:\r\n",
        "    print(\"Aprobado\")"
      ],
      "execution_count": 2,
      "outputs": [
        {
          "output_type": "stream",
          "text": [
            "Ingresa la calificación del alumno: 8.8\n",
            "Aprobado\n"
          ],
          "name": "stdout"
        }
      ]
    },
    {
      "cell_type": "markdown",
      "metadata": {
        "id": "wbHhQVySFoGG"
      },
      "source": [
        "#Listas \r\n",
        "\r\n",
        "Las listas dentro de python, nos sirven para ahorrar lineas de codigo, es decir, es posible encapsular varios elementos de la misma rama de elementos en uno sol, teniendo la posibilidad de acceder a cada un de estos datos."
      ]
    },
    {
      "cell_type": "code",
      "metadata": {
        "id": "4dJZ4ndfGEDd"
      },
      "source": [
        "#Cosas que podemos encontrar dentro de un mercado\r\n",
        "verduras=[\"Aguacate\", \"Brocoli\", \"Zanahoria\", \"Cebolla\"]\r\n",
        "frutas=[\"Mango\", \"Limón\", \"Mandarina\", \"Naranja\"]\r\n"
      ],
      "execution_count": null,
      "outputs": []
    },
    {
      "cell_type": "code",
      "metadata": {
        "colab": {
          "base_uri": "https://localhost:8080/"
        },
        "id": "lzYMToLMHQER",
        "outputId": "812e2777-119f-45bb-c482-f0ce0c785c79"
      },
      "source": [
        "#Tabla del #5\r\n",
        "for i in range(10):\r\n",
        "  por=int(input(\"Ingresa los numeros del 1 al 10, uno por uno: \"))\r\n",
        "  res=5*por\r\n",
        "  print(res)"
      ],
      "execution_count": 4,
      "outputs": [
        {
          "output_type": "stream",
          "text": [
            "Ingresa los numeros del 1 al 10, uno por uno: 1\n",
            "5\n",
            "Ingresa los numeros del 1 al 10, uno por uno: 2\n",
            "10\n",
            "Ingresa los numeros del 1 al 10, uno por uno: 3\n",
            "15\n",
            "Ingresa los numeros del 1 al 10, uno por uno: 4\n",
            "20\n",
            "Ingresa los numeros del 1 al 10, uno por uno: 5\n",
            "25\n",
            "Ingresa los numeros del 1 al 10, uno por uno: 6\n",
            "30\n",
            "Ingresa los numeros del 1 al 10, uno por uno: 7\n",
            "35\n",
            "Ingresa los numeros del 1 al 10, uno por uno: 8\n",
            "40\n",
            "Ingresa los numeros del 1 al 10, uno por uno: 9\n",
            "45\n",
            "Ingresa los numeros del 1 al 10, uno por uno: 10\n",
            "50\n"
          ],
          "name": "stdout"
        }
      ]
    },
    {
      "cell_type": "code",
      "metadata": {
        "colab": {
          "base_uri": "https://localhost:8080/"
        },
        "id": "tC2U_QgMIfoN",
        "outputId": "a5f9c609-8a8b-42ec-d4ca-eaac14a73c6a"
      },
      "source": [
        "pri_nom=input(\"Ingresa el nombre de la primera pesona: \")\r\n",
        "seg_nom=input(\"Ingresa el nombre de la segunda persona: \")\r\n",
        "if pri_nom == seg_nom:\r\n",
        "  print(\"Coincidencia\")"
      ],
      "execution_count": 6,
      "outputs": [
        {
          "output_type": "stream",
          "text": [
            "Ingresa el nombre de la primera pesona: Raul\n",
            "Ingresa el nombre de la segunda persona: Roman\n"
          ],
          "name": "stdout"
        }
      ]
    },
    {
      "cell_type": "code",
      "metadata": {
        "colab": {
          "base_uri": "https://localhost:8080/"
        },
        "id": "tvHvgmjAKNaR",
        "outputId": "a0f09b90-4211-4345-f78f-38103e8a0ca7"
      },
      "source": [
        "for i in range(100):\r\n",
        "  res=100-i\r\n",
        "  print(res)"
      ],
      "execution_count": 8,
      "outputs": [
        {
          "output_type": "stream",
          "text": [
            "100\n",
            "99\n",
            "98\n",
            "97\n",
            "96\n",
            "95\n",
            "94\n",
            "93\n",
            "92\n",
            "91\n",
            "90\n",
            "89\n",
            "88\n",
            "87\n",
            "86\n",
            "85\n",
            "84\n",
            "83\n",
            "82\n",
            "81\n",
            "80\n",
            "79\n",
            "78\n",
            "77\n",
            "76\n",
            "75\n",
            "74\n",
            "73\n",
            "72\n",
            "71\n",
            "70\n",
            "69\n",
            "68\n",
            "67\n",
            "66\n",
            "65\n",
            "64\n",
            "63\n",
            "62\n",
            "61\n",
            "60\n",
            "59\n",
            "58\n",
            "57\n",
            "56\n",
            "55\n",
            "54\n",
            "53\n",
            "52\n",
            "51\n",
            "50\n",
            "49\n",
            "48\n",
            "47\n",
            "46\n",
            "45\n",
            "44\n",
            "43\n",
            "42\n",
            "41\n",
            "40\n",
            "39\n",
            "38\n",
            "37\n",
            "36\n",
            "35\n",
            "34\n",
            "33\n",
            "32\n",
            "31\n",
            "30\n",
            "29\n",
            "28\n",
            "27\n",
            "26\n",
            "25\n",
            "24\n",
            "23\n",
            "22\n",
            "21\n",
            "20\n",
            "19\n",
            "18\n",
            "17\n",
            "16\n",
            "15\n",
            "14\n",
            "13\n",
            "12\n",
            "11\n",
            "10\n",
            "9\n",
            "8\n",
            "7\n",
            "6\n",
            "5\n",
            "4\n",
            "3\n",
            "2\n",
            "1\n"
          ],
          "name": "stdout"
        }
      ]
    },
    {
      "cell_type": "code",
      "metadata": {
        "colab": {
          "base_uri": "https://localhost:8080/"
        },
        "id": "qNs838AbMyXt",
        "outputId": "b9021fd6-3328-4fd1-db33-a218e5989fa7"
      },
      "source": [
        "prim=int(input(\"Ingresa el primer número entero a evaluar: \"))\r\n",
        "seg=int(input(\"Ingresa el segundo número a evaluar: \"))\r\n",
        "if prim == seg:\r\n",
        "  print(\"Los números ingresados son iguales :)\")\r\n",
        "else: \r\n",
        "  if prim > seg:\r\n",
        "    print(f\"{prim} Es el numero más grande\")\r\n",
        "  else:\r\n",
        "    if prim < seg:\r\n",
        "      print(f\"{seg} Es el número más grande\")"
      ],
      "execution_count": 9,
      "outputs": [
        {
          "output_type": "stream",
          "text": [
            "Ingresa el primer número entero a evaluar: 8\n",
            "Ingresa el segundo número a evaluar: 10\n",
            "10 Es el número más grande\n"
          ],
          "name": "stdout"
        }
      ]
    },
    {
      "cell_type": "code",
      "metadata": {
        "colab": {
          "base_uri": "https://localhost:8080/"
        },
        "id": "QoEBuFQSOauB",
        "outputId": "c1b6750f-d70c-421a-a4ed-b3bb564200e8"
      },
      "source": [
        "voto=input(\"Ingesa la letra correspondiente al candidato por el que se desea votar: \")\r\n",
        "if voto == \"A\":\r\n",
        "  print(\"Se ah votado por el partido Rojo\")\r\n",
        "  if voto == \"B\":\r\n",
        "    print(\"Se ah votado por el partido Verde\")\r\n",
        "  else:\r\n",
        "    if voto == \"C\":\r\n",
        "      print(\"Se ah votado por el partido Azul\")\r\n",
        "else:\r\n",
        "  if voto !=\"A\"\"b\"\"c\":\r\n",
        "    print(\"Opción erronea\")"
      ],
      "execution_count": 14,
      "outputs": [
        {
          "output_type": "stream",
          "text": [
            "Ingesa la letra correspondiente al candidato por el que se desea votar: A\n",
            "Se ah votado por el partido Rojo\n"
          ],
          "name": "stdout"
        }
      ]
    },
    {
      "cell_type": "code",
      "metadata": {
        "colab": {
          "base_uri": "https://localhost:8080/"
        },
        "id": "Iv7YfypyQlY-",
        "outputId": "6971e99f-b3db-4799-aed5-c9f96ae4ab36"
      },
      "source": [
        "monto=int(input(\"Ingrese el total del monto a invertir: \"))\r\n",
        "tasa=monto*.03\r\n",
        "print(f\"La tasa del dinero ingresado es de: ${tasa}\")\r\n",
        "fin_mes=tasa+monto\r\n",
        "print(f\"A fin de mes, usted tendria un total de: ${fin_mes}\")"
      ],
      "execution_count": 16,
      "outputs": [
        {
          "output_type": "stream",
          "text": [
            "Ingrese el total del monto a invertir: 1500\n",
            "La tasa del dinero ingresado es de: $45.0\n",
            "A fin de mes, usted tendria un total de: $1545.0\n"
          ],
          "name": "stdout"
        }
      ]
    },
    {
      "cell_type": "code",
      "metadata": {
        "colab": {
          "base_uri": "https://localhost:8080/"
        },
        "id": "SilvO_bJS51C",
        "outputId": "f2a45888-3e3f-4292-f40b-94fc85a7be16"
      },
      "source": [
        "uno={\"marca\" : \"ferrari\",\r\n",
        "     \"Modelo\" : \"JRO1234\",\r\n",
        "     \"Color\" : \"Verde\",\r\n",
        "     \"Numero de matricula\":123456,\r\n",
        "     \"precio\": 1500200}\r\n",
        "dos={\"marca\":\"Ruchico\",\r\n",
        "     \"Modelo\":\"FRM156\",\r\n",
        "     \"Color\":\"Azul\",\r\n",
        "     \"Numero de matricula\":147852,\r\n",
        "     \"precio\": 1548796}\r\n",
        "tres={\"marca\":\"Json\",\r\n",
        "     \"Modelo\":\"QWE123\",\r\n",
        "     \"Color\":\"Rosa\",\r\n",
        "     \"Numero de matricula\":154896,\r\n",
        "     \"precio\": 1456789}\r\n",
        "cuatro={\"marca\":\"CUrsi\",\r\n",
        "     \"Modelo\":\"ERT345\",\r\n",
        "     \"Color\":\"Morado\",\r\n",
        "     \"Numero de matricula\":485632,\r\n",
        "     \"precio\": 3654897}\r\n",
        "cinco={\"marca\":\"Mosca\",\r\n",
        "     \"Modelo\":\"MRL12\",\r\n",
        "     \"Color\":\"Blanco\",\r\n",
        "     \"Numero de matricula\":487596,\r\n",
        "     \"precio\": 1632489}\r\n",
        "for i in uno:\r\n",
        "  print(i , uno[i])\r\n",
        "for i in dos:\r\n",
        "  print(i , dos[i])\r\n",
        "for i in tres:\r\n",
        "  print(i , tres[i])\r\n",
        "for i in cuatro:\r\n",
        "  print(i , cuatro[i])\r\n",
        "for i in cinco:\r\n",
        "  print(i , cinco[i])"
      ],
      "execution_count": 21,
      "outputs": [
        {
          "output_type": "stream",
          "text": [
            "marca ferrari\n",
            "Modelo JRO1234\n",
            "Color Verde\n",
            "Numero de matricula 123456\n",
            "precio 1500200\n",
            "marca Ruchico\n",
            "Modelo FRM156\n",
            "Color Azul\n",
            "Numero de matricula 147852\n",
            "precio 1548796\n",
            "marca Json\n",
            "Modelo QWE123\n",
            "Color Rosa\n",
            "Numero de matricula 154896\n",
            "precio 1456789\n",
            "marca CUrsi\n",
            "Modelo ERT345\n",
            "Color Morado\n",
            "Numero de matricula 485632\n",
            "precio 3654897\n",
            "marca Mosca\n",
            "Modelo MRL12\n",
            "Color Blanco\n",
            "Numero de matricula 487596\n",
            "precio 1632489\n"
          ],
          "name": "stdout"
        }
      ]
    },
    {
      "cell_type": "code",
      "metadata": {
        "colab": {
          "base_uri": "https://localhost:8080/"
        },
        "id": "K_2HHcgrYXcN",
        "outputId": "ac61d948-72ad-4043-f933-43c3bc1830ff"
      },
      "source": [
        "nombre1=input(\"Dame un nombre: \")\r\n",
        "nombre2=input(\"Dame otro nombre: \")\r\n",
        "posicion_final_nombre1=len(nombre1)\r\n",
        "posicion_final_nombre2=len(nombre2)\r\n",
        "if nombre1[0] == nombre2[0] or nombre1[posicion_final_nombre1] == nombre2[posicion_final_nombre2]:\r\n",
        "    print(\"Coincidencia\")\r\n",
        "else:\r\n",
        "    print(\"No hay coincidencia\")"
      ],
      "execution_count": 22,
      "outputs": [
        {
          "output_type": "stream",
          "text": [
            "Dame un nombre: Juan\n",
            "Dame otro nombre: Jose\n",
            "Coincidencia\n"
          ],
          "name": "stdout"
        }
      ]
    },
    {
      "cell_type": "code",
      "metadata": {
        "colab": {
          "base_uri": "https://localhost:8080/"
        },
        "id": "aifxs1GNZUNr",
        "outputId": "f9436204-0c34-45a8-991d-2ec46bb0a36b"
      },
      "source": [
        "letra = input(\"Ingresa una letra: \")\r\n",
        "if len(letra) > 1:\r\n",
        "    print(\"Solo ingresa una letra\")\r\n",
        "else:\r\n",
        "    letra = letra.upper()\r\n",
        "    if letra == 'A' or letra == 'E' or letra == 'I' or letra == 'O' or letra == 'U':\r\n",
        "        print(\"Es una vocal\")\r\n",
        "    else:\r\n",
        "        print(\"No es una vocal\")"
      ],
      "execution_count": 26,
      "outputs": [
        {
          "output_type": "stream",
          "text": [
            "Ingresa una letra: a\n",
            "Es una vocal\n"
          ],
          "name": "stdout"
        }
      ]
    }
  ]
}