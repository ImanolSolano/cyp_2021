{
  "nbformat": 4,
  "nbformat_minor": 0,
  "metadata": {
    "colab": {
      "name": "1-Dic-CyP",
      "provenance": [],
      "authorship_tag": "ABX9TyMLny9gZGr9oWZo3qP7vQ4y",
      "include_colab_link": true
    },
    "kernelspec": {
      "name": "python3",
      "display_name": "Python 3"
    }
  },
  "cells": [
    {
      "cell_type": "markdown",
      "metadata": {
        "id": "view-in-github",
        "colab_type": "text"
      },
      "source": [
        "<a href=\"https://colab.research.google.com/github/ImanolSolano/cyp_2021/blob/main/1_Dic_CyP.ipynb\" target=\"_parent\"><img src=\"https://colab.research.google.com/assets/colab-badge.svg\" alt=\"Open In Colab\"/></a>"
      ]
    },
    {
      "cell_type": "code",
      "metadata": {
        "colab": {
          "base_uri": "https://localhost:8080/"
        },
        "id": "a7H68Amor_6Y",
        "outputId": "92b0621d-fb44-4761-bde2-85a4f6925386"
      },
      "source": [
        "#Ejemplo 1; pedir 3 numeros enteros y mostrar el mayor de los 3 \n",
        "numero1=0\n",
        "numero2=0\n",
        "numero3=0\n",
        "numero1=int(input(\"Intruduce el primer valor:\"))\n",
        "numero2=int(input(\"Intruduce el segundo valor:\"))\n",
        "numero3=int(input(\"Intruduce el tercer valor:\"))\n",
        "if numero1>=numero2 and numero1>=numero3:\n",
        "  print(\"El número\",numero1,\"es el mayor\")\n",
        "elif numero2>=numero1 and numero2>=numero3:\n",
        "  print(\"El número\",numero2,\"es el mayor\")"
      ],
      "execution_count": 3,
      "outputs": [
        {
          "output_type": "stream",
          "text": [
            "Intruduce el primer valor:8\n",
            "Intruduce el segundo valor:9\n",
            "Intruduce el tercer valor:7\n",
            "El número 9 es el mayor\n"
          ],
          "name": "stdout"
        }
      ]
    },
    {
      "cell_type": "code",
      "metadata": {
        "id": "GAQ-bJmOs-5m"
      },
      "source": [
        "#Ejemplo 2; calcular el salario de un trabajador por semana, teniendo en cuenta que a partir de 40 horas se paga doble \n",
        "\n",
        "print(\"Ingrese el nombre del trabajador\")\n",
        "nombre=int(input())\n",
        "print(\"¿Cuantas horas trabajo esta semana?\",nombre,\":\" )\n",
        "horas=int(input())\n",
        "print(\"¿Cuanto se le paga por hora?:\")\n",
        "sueldoH= float(input())\n",
        "\n",
        "#Evaluar su sueldo\n",
        "\n",
        "if (horas<=40):\n",
        "  pago = horas*sueldoH\n",
        "  print(nombre,\"Su pago total es de $\",pago)\n",
        "\n",
        "else:\n",
        "  extras = horas - 40\n",
        "  pago = 40*sueldoH\n",
        "  pagoFinal = pago + ((extras * sueldoH)*2)\n",
        "  print(nombre,\"Su pago total es de $\",pagoFinal)"
      ],
      "execution_count": null,
      "outputs": []
    },
    {
      "cell_type": "code",
      "metadata": {
        "id": "WUgvBQ-msA3V"
      },
      "source": [
        "#Ejemplo 3\n",
        "#Calcular el salario semanal de x trabajador\n",
        "#El salario semanal se calcula en base a las horas semanales trabajadas\n",
        "#El pago por hora es variable (se pide por teclado)\n",
        "#Si las horas trabajadas superan las 40 horas, el pago por hora extra es:\n",
        "#Doble en el rango de 41horas a 50horas\n",
        "#Triple en el rango de 51horas a 60 horas\n",
        "#Incentivo de $2000 si rebasa las 60 horas.\n",
        "print(\"Ingrsese el nombre del empleado\")\n",
        "nombre=intput()\n",
        "print(\"¿Cuantas horas trabajo esta semana?\",nombre,\":\")\n",
        "horas=input()\n",
        "horas=int(horas)\n",
        "print(\"¿Cuanto se paga por hora?\")\n",
        "sueldoH=input()\n",
        "sueldoH=float(sueldoH)\n",
        "\n",
        "if(horas>=40):\n",
        "  pago=horas*sueldoH\n",
        "  print(\"El sueldo final de:\",nombre, \"es $\",pago)\n",
        "elif(horas>40 and horas<=50):\n",
        "  extrasDobles=horas-40\n",
        "  print(\"Horas extras dobles:\")\n",
        "  pago=40*sueldoH\n",
        "  print(\"Sueldo base:$\",pago)\n",
        "  pagoDoble=extrasDobles*sueldoH*2\n",
        "  print(\"Pago de horas dobles:$\",pagoDoble)\n",
        "  pagoFinal=pago+pagoDoble\n",
        "  print(\"El sueldo final de:\",nombre, \"es $\",pago)\n",
        "\n",
        "elif(horas >50 and horas <=60):\n",
        "  extrasTriples=horas-50\n",
        "  print(\"horas extra dobles:10\")\n",
        "  print(\"horas extra triples:\",extrasTriples)\n",
        "  pago= 40* sueldoH\n",
        "  print(\"sueldo base:$\", pago)\n",
        "  pagoDoble=10*sueldoH*2\n",
        "  print(\"pago de horas extras dobles:\", pagoDoble)\n",
        "  pagoTriple=extrasTriples *sueldoH *3\n",
        "  print(\"pago de horas extra triples:\" ,pagoTriple)\n",
        "  pagoFinal=pago + pagoDoble+ pagoTriple\n",
        "  print(\"El sueldo Final de : \" ,nombre , \"Es $\", pagoFinal)\n",
        "else:\n",
        "  extrasTriples=10\n",
        "  print(\"Horas extra dobles 10\")\n",
        "  print(\"horas extra triples 10\")\n",
        "  pago= 40*sueldoH\n",
        "  print(\"Sueldo Base:$\",pago)\n",
        "  pagoDoble=10*sueldoH*2\n",
        "  print(\"Pago de horas extra Dobles:\", pagoDoble)\n",
        "  pagoTriple=extrasTriples * sueldoH*3\n",
        "  print(\"pago de horas extra triples:\", pagoTriple)\n",
        "  print(\"Incentivo por trabajar más de 60 horas:$ $2000\")\n",
        "  pagoFinal= pago+pagoDoble+pagoTriple+2000\n",
        "  print(\"El sueldo Final de : \" ,nombre , \"Es $\", pagoFinal)"
      ],
      "execution_count": null,
      "outputs": []
    },
    {
      "cell_type": "code",
      "metadata": {
        "colab": {
          "base_uri": "https://localhost:8080/"
        },
        "id": "-LDtzhTjtNQH",
        "outputId": "ad951996-6b5b-4abe-8a30-e86a5da58b9b"
      },
      "source": [
        "#ejemplo 1; estrucutra FOR\n",
        "for estaciones_año in [\"primavera\",\"verano\",\"otoño\",\"invierno\"]:\n",
        "  print(estaciones_año)"
      ],
      "execution_count": 7,
      "outputs": [
        {
          "output_type": "stream",
          "text": [
            "primavera\n",
            "verano\n",
            "otoño\n",
            "invierno\n"
          ],
          "name": "stdout"
        }
      ]
    }
  ]
}