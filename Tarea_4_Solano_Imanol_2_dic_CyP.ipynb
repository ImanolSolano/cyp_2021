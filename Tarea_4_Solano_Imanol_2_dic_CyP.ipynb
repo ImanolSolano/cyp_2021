{
  "nbformat": 4,
  "nbformat_minor": 0,
  "metadata": {
    "colab": {
      "name": "Tarea_4_Solano_Imanol_2_dic_CyP",
      "provenance": [],
      "authorship_tag": "ABX9TyMS6qn+nDg1AaFwidwjvsH4",
      "include_colab_link": true
    },
    "kernelspec": {
      "name": "python3",
      "display_name": "Python 3"
    }
  },
  "cells": [
    {
      "cell_type": "markdown",
      "metadata": {
        "id": "view-in-github",
        "colab_type": "text"
      },
      "source": [
        "<a href=\"https://colab.research.google.com/github/ImanolSolano/cyp_2021/blob/main/Tarea_4_Solano_Imanol_2_dic_CyP.ipynb\" target=\"_parent\"><img src=\"https://colab.research.google.com/assets/colab-badge.svg\" alt=\"Open In Colab\"/></a>"
      ]
    },
    {
      "cell_type": "code",
      "metadata": {
        "colab": {
          "base_uri": "https://localhost:8080/"
        },
        "id": "Qx-xHTM5BFwg",
        "outputId": "25a186f4-ac2a-4850-cb5b-136de0d4d31a"
      },
      "source": [
        "#Ejercicio 1, Examn selectiva doble\n",
        "CAL=0\n",
        "CAL= float (input(\"Ingresa la calificación del alumno:\"))\n",
        "if(CAL>=8):\n",
        "  print(\"Aprobado\")\n",
        "else:\n",
        "  if(CAL<8):\n",
        "    print(\"Reprobado\")"
      ],
      "execution_count": 8,
      "outputs": [
        {
          "output_type": "stream",
          "text": [
            "Ingresa la calificación del alumno:8\n",
            "Aprobado\n"
          ],
          "name": "stdout"
        }
      ]
    },
    {
      "cell_type": "code",
      "metadata": {
        "colab": {
          "base_uri": "https://localhost:8080/"
        },
        "id": "0PDqbxI7Cqtk",
        "outputId": "74380194-b7d3-4a5e-8685-443eee08f148"
      },
      "source": [
        "#Ejercicio 2\n",
        "SUE=0\n",
        "NSUE=0\n",
        "NOMBRE=0\n",
        "NOMBRE=input(\"Ingresa el nombre del trabajador:\")\n",
        "SUE=float (input(\"Ingresa el sueldo del trabajador\"))\n",
        "if (SUE<1000):\n",
        "  NSUE=int(SUE*1.15)\n",
        "else:\n",
        "  if (SUE>1000):\n",
        "    NSUE=int(SUE*1.12)\n",
        "print(\"El nuevo salario de\",NOMBRE,\"es de: $\",NSUE)"
      ],
      "execution_count": 11,
      "outputs": [
        {
          "output_type": "stream",
          "text": [
            "Ingresa el nombre del trabajador:Ricardo\n",
            "Ingresa el sueldo del trabajador2500\n",
            "El nuevo salario de Ricardo es de: $ 2800\n"
          ],
          "name": "stdout"
        }
      ]
    },
    {
      "cell_type": "code",
      "metadata": {
        "colab": {
          "base_uri": "https://localhost:8080/"
        },
        "id": "bCa18koFELk9",
        "outputId": "a766e345-e91b-4a10-ab6e-e50d4b664930"
      },
      "source": [
        "#Ejercicio 3\n",
        "cate=0\n",
        "sue=0\n",
        "NSUE=0\n",
        "cate=input(\"Coloca la categoría a la que pertenece el trabajadr:\")\n",
        "sue=float(input(\"Ingresa el sueldo del trabajador:\"))\n",
        "if (cate==1):\n",
        "  NSUE=int(sue*1.15)\n",
        "else:\n",
        "  if (cate==2):\n",
        "    NSUE=int(sue*1.10)\n",
        "  else:\n",
        "    if (cate==3):\n",
        "      NSUE=int(sue*1.08)\n",
        "    else:\n",
        "      if (cate==4):\n",
        "        NSUE=int(sue*1.07)\n",
        "print(\"La categoria a la que pertenece el trabajador es:\",cate,\"teniendo un nuevo sueldo de: $\",NSUE)"
      ],
      "execution_count": 19,
      "outputs": [
        {
          "output_type": "stream",
          "text": [
            "Coloca la categoría a la que pertenece el trabajadr:1\n",
            "Ingresa el sueldo del trabajador:1500\n",
            "La categoria a la que pertenece el trabajador es: 1 teniendo un nuevo sueldo de: $ 0\n"
          ],
          "name": "stdout"
        }
      ]
    }
  ]
}